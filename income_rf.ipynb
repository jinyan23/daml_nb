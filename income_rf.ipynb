{
 "cells": [
  {
   "attachments": {},
   "cell_type": "markdown",
   "metadata": {},
   "source": [
    "#### Description\n",
    "Identify the level of income qualification needed for the families in Latin America.\n",
    "\n",
    "#### Problem Statement Scenario\n",
    "Many social programs have a hard time ensuring that the right people are given enough aid. It's tricky when a program focuses on the poorest segment of the population. This segment of the population can't provide the necessary income and expense records to prove that they qualify. \n",
    "\n",
    "In Latin America, a popular method called Proxy Means Test (PMT) uses an algorithm to verify income qualification. With PMT, agencies use a model that considers a family's <u>observable household attributes</u> like the material of their walls and ceiling or the assets found in their homes <u>to classify them and predict their level of need</u>. While this is an improvement, accuracy remains a problem as the region's population grows and poverty declines.\n",
    "\n",
    "The Inter-American Development Bank (IDB) believes that new methods beyond traditional econometrics, based on a dataset of Costa Rican household characteristics, might help improve PMT's performance. \n",
    "\n",
    "#### Following actions should be performed:\n",
    "1. Identify the output variable.\n",
    "2. Understand the type of data.\n",
    "3. Check if there are any biases in your dataset.\n",
    "4. Check whether all members of the house have the same poverty level.\n",
    "5. Check if there is a house without family head.\n",
    "6. Set poverty level of the members and the head of the house within a family.\n",
    "7. Count how many null values exist in each of the columns.\n",
    "8. Remove null value rows of the target variable.\n",
    "9. Predict the accuracy using random forest classifier.\n",
    "10. Check the accuracy using random forest with cross validation. \n",
    "\n",
    "\n",
    "#### Revisit\n",
    "* Can revisit the data cleaning and preparation again after model training to check if better scores can be achieved.\n",
    "* Can relook into suggestions by chatGPT\n",
    "* Remove features with only 2000+ values as compared to the full 9500 values."
   ]
  },
  {
   "cell_type": "code",
   "execution_count": null,
   "metadata": {},
   "outputs": [],
   "source": [
    "# Observable household attribute features \n",
    "# 1 = unique ID (drop)\n",
    "# 2 = monthly rent payment\n",
    "# 3 = overcrowding by bedrooms\n",
    "# 4 = number of rooms\n",
    "# 5 = overcrowding by rooms\n",
    "# 6 = bathroom\n",
    "# 7 = refrigerator\n",
    "# 8-9 = tablets owned\n",
    "# 10-20 = demographics of family\n",
    "# 21-22 = years of schooling\n",
    "# 23 - household size\n",
    "# 24-42 = features describing physical appearance of house\n",
    "# 43-54 = water, sanitation & electricity provision\n",
    "# 55-58 = cooking provision\n",
    "# 59-64 = rubbish disposal\n",
    "# 65-73 = features describing physical appearance of house\n",
    "# 74-95 = family member description\n",
    "# 96-104 = family relationship\n",
    "# 105-113 = member educational level\n",
    "# 114-115 = bedroom, overcrowding\n",
    "# 116-120 = financial state of house (buy, rent etc)\n",
    "# 121-124 = electronic assets of house\n",
    "# 125-132 = region family belongs to\n",
    "# 133 = age\n",
    "# 134-141 = squared features\n",
    "# 142 = squared age (drop)"
   ]
  },
  {
   "cell_type": "code",
   "execution_count": 1,
   "metadata": {},
   "outputs": [],
   "source": [
    "# Import modules\n",
    "import pandas as pd\n",
    "import numpy as np\n",
    "import seaborn as sns\n",
    "import warnings\n",
    "import time\n",
    "\n",
    "# Machine Learning\n",
    "from sklearn.model_selection import train_test_split\n",
    "from sklearn.impute import SimpleImputer as Imputer\n",
    "\n",
    "from sklearn.ensemble import RandomForestClassifier\n",
    "\n",
    "from sklearn.model_selection import GridSearchCV\n",
    "\n",
    "from xgboost import XGBClassifier\n",
    "\n",
    "# Metrics\n",
    "from sklearn.metrics import confusion_matrix, classification_report"
   ]
  },
  {
   "cell_type": "code",
   "execution_count": 2,
   "metadata": {},
   "outputs": [],
   "source": [
    "# Set options for display\n",
    "warnings.filterwarnings('ignore')"
   ]
  },
  {
   "cell_type": "code",
   "execution_count": 89,
   "metadata": {},
   "outputs": [],
   "source": [
    "# Load train and test dataset\n",
    "train = pd.read_csv(\"./IU 3.6.9 - Python Assignment/dataset/train.csv\")\n",
    "test = pd.read_csv(\"./IU 3.6.9 - Python Assignment/dataset/test.csv\")"
   ]
  },
  {
   "attachments": {},
   "cell_type": "markdown",
   "metadata": {},
   "source": [
    "#### Question 1 - Identify the output variable\n",
    "1. Output variable is not present as a column in the test set."
   ]
  },
  {
   "cell_type": "code",
   "execution_count": 90,
   "metadata": {},
   "outputs": [
    {
     "data": {
      "text/plain": [
       "{'Target'}"
      ]
     },
     "execution_count": 90,
     "metadata": {},
     "output_type": "execute_result"
    }
   ],
   "source": [
    "# Question 1 - Identify the output variable\n",
    "set(train.columns).difference(set(test.columns))"
   ]
  },
  {
   "attachments": {},
   "cell_type": "markdown",
   "metadata": {},
   "source": [
    "#### Question 2 - Understand the type of data\n",
    "1. ID column can be droppped because they don't provide any useful information to the machine learning model. \n",
    "2. There are a few columns with missing values.\n",
    "3. Calculate the percentage of missing values from the column to decide if the feature is to be dropped.\n",
    "4. Some features are of object type."
   ]
  },
  {
   "cell_type": "code",
   "execution_count": 91,
   "metadata": {},
   "outputs": [
    {
     "name": "stdout",
     "output_type": "stream",
     "text": [
      "<class 'pandas.core.frame.DataFrame'>\n",
      "RangeIndex: 9557 entries, 0 to 9556\n",
      "Data columns (total 80 columns):\n",
      " #   Column           Non-Null Count  Dtype  \n",
      "---  ------           --------------  -----  \n",
      " 0   Id               9557 non-null   object \n",
      " 1   v2a1             2697 non-null   float64\n",
      " 2   hacdor           9557 non-null   int64  \n",
      " 3   rooms            9557 non-null   int64  \n",
      " 4   hacapo           9557 non-null   int64  \n",
      " 5   v14a             9557 non-null   int64  \n",
      " 6   refrig           9557 non-null   int64  \n",
      " 7   v18q             9557 non-null   int64  \n",
      " 8   v18q1            2215 non-null   float64\n",
      " 9   r4h1             9557 non-null   int64  \n",
      " 10  r4h2             9557 non-null   int64  \n",
      " 11  r4h3             9557 non-null   int64  \n",
      " 12  r4m1             9557 non-null   int64  \n",
      " 13  r4m2             9557 non-null   int64  \n",
      " 14  r4m3             9557 non-null   int64  \n",
      " 15  r4t1             9557 non-null   int64  \n",
      " 16  r4t2             9557 non-null   int64  \n",
      " 17  r4t3             9557 non-null   int64  \n",
      " 18  tamhog           9557 non-null   int64  \n",
      " 19  tamviv           9557 non-null   int64  \n",
      " 20  escolari         9557 non-null   int64  \n",
      " 21  rez_esc          1629 non-null   float64\n",
      " 22  hhsize           9557 non-null   int64  \n",
      " 23  paredblolad      9557 non-null   int64  \n",
      " 24  paredzocalo      9557 non-null   int64  \n",
      " 25  paredpreb        9557 non-null   int64  \n",
      " 26  pareddes         9557 non-null   int64  \n",
      " 27  paredmad         9557 non-null   int64  \n",
      " 28  paredzinc        9557 non-null   int64  \n",
      " 29  paredfibras      9557 non-null   int64  \n",
      " 30  paredother       9557 non-null   int64  \n",
      " 31  pisomoscer       9557 non-null   int64  \n",
      " 32  pisocemento      9557 non-null   int64  \n",
      " 33  pisoother        9557 non-null   int64  \n",
      " 34  pisonatur        9557 non-null   int64  \n",
      " 35  pisonotiene      9557 non-null   int64  \n",
      " 36  pisomadera       9557 non-null   int64  \n",
      " 37  techozinc        9557 non-null   int64  \n",
      " 38  techoentrepiso   9557 non-null   int64  \n",
      " 39  techocane        9557 non-null   int64  \n",
      " 40  techootro        9557 non-null   int64  \n",
      " 41  cielorazo        9557 non-null   int64  \n",
      " 42  abastaguadentro  9557 non-null   int64  \n",
      " 43  abastaguafuera   9557 non-null   int64  \n",
      " 44  abastaguano      9557 non-null   int64  \n",
      " 45  public           9557 non-null   int64  \n",
      " 46  planpri          9557 non-null   int64  \n",
      " 47  noelec           9557 non-null   int64  \n",
      " 48  coopele          9557 non-null   int64  \n",
      " 49  sanitario1       9557 non-null   int64  \n",
      " 50  sanitario2       9557 non-null   int64  \n",
      " 51  sanitario3       9557 non-null   int64  \n",
      " 52  sanitario5       9557 non-null   int64  \n",
      " 53  sanitario6       9557 non-null   int64  \n",
      " 54  energcocinar1    9557 non-null   int64  \n",
      " 55  energcocinar2    9557 non-null   int64  \n",
      " 56  energcocinar3    9557 non-null   int64  \n",
      " 57  energcocinar4    9557 non-null   int64  \n",
      " 58  elimbasu1        9557 non-null   int64  \n",
      " 59  elimbasu2        9557 non-null   int64  \n",
      " 60  elimbasu3        9557 non-null   int64  \n",
      " 61  elimbasu4        9557 non-null   int64  \n",
      " 62  elimbasu5        9557 non-null   int64  \n",
      " 63  elimbasu6        9557 non-null   int64  \n",
      " 64  epared1          9557 non-null   int64  \n",
      " 65  epared2          9557 non-null   int64  \n",
      " 66  epared3          9557 non-null   int64  \n",
      " 67  etecho1          9557 non-null   int64  \n",
      " 68  etecho2          9557 non-null   int64  \n",
      " 69  etecho3          9557 non-null   int64  \n",
      " 70  eviv1            9557 non-null   int64  \n",
      " 71  eviv2            9557 non-null   int64  \n",
      " 72  eviv3            9557 non-null   int64  \n",
      " 73  dis              9557 non-null   int64  \n",
      " 74  male             9557 non-null   int64  \n",
      " 75  female           9557 non-null   int64  \n",
      " 76  estadocivil1     9557 non-null   int64  \n",
      " 77  estadocivil2     9557 non-null   int64  \n",
      " 78  estadocivil3     9557 non-null   int64  \n",
      " 79  estadocivil4     9557 non-null   int64  \n",
      "dtypes: float64(3), int64(76), object(1)\n",
      "memory usage: 5.8+ MB\n",
      "<class 'pandas.core.frame.DataFrame'>\n",
      "RangeIndex: 9557 entries, 0 to 9556\n",
      "Data columns (total 62 columns):\n",
      " #   Column           Non-Null Count  Dtype  \n",
      "---  ------           --------------  -----  \n",
      " 0   estadocivil6     9557 non-null   int64  \n",
      " 1   estadocivil7     9557 non-null   int64  \n",
      " 2   parentesco1      9557 non-null   int64  \n",
      " 3   parentesco2      9557 non-null   int64  \n",
      " 4   parentesco3      9557 non-null   int64  \n",
      " 5   parentesco4      9557 non-null   int64  \n",
      " 6   parentesco5      9557 non-null   int64  \n",
      " 7   parentesco6      9557 non-null   int64  \n",
      " 8   parentesco7      9557 non-null   int64  \n",
      " 9   parentesco8      9557 non-null   int64  \n",
      " 10  parentesco9      9557 non-null   int64  \n",
      " 11  parentesco10     9557 non-null   int64  \n",
      " 12  parentesco11     9557 non-null   int64  \n",
      " 13  parentesco12     9557 non-null   int64  \n",
      " 14  idhogar          9557 non-null   object \n",
      " 15  hogar_nin        9557 non-null   int64  \n",
      " 16  hogar_adul       9557 non-null   int64  \n",
      " 17  hogar_mayor      9557 non-null   int64  \n",
      " 18  hogar_total      9557 non-null   int64  \n",
      " 19  dependency       9557 non-null   object \n",
      " 20  edjefe           9557 non-null   object \n",
      " 21  edjefa           9557 non-null   object \n",
      " 22  meaneduc         9552 non-null   float64\n",
      " 23  instlevel1       9557 non-null   int64  \n",
      " 24  instlevel2       9557 non-null   int64  \n",
      " 25  instlevel3       9557 non-null   int64  \n",
      " 26  instlevel4       9557 non-null   int64  \n",
      " 27  instlevel5       9557 non-null   int64  \n",
      " 28  instlevel6       9557 non-null   int64  \n",
      " 29  instlevel7       9557 non-null   int64  \n",
      " 30  instlevel8       9557 non-null   int64  \n",
      " 31  instlevel9       9557 non-null   int64  \n",
      " 32  bedrooms         9557 non-null   int64  \n",
      " 33  overcrowding     9557 non-null   float64\n",
      " 34  tipovivi1        9557 non-null   int64  \n",
      " 35  tipovivi2        9557 non-null   int64  \n",
      " 36  tipovivi3        9557 non-null   int64  \n",
      " 37  tipovivi4        9557 non-null   int64  \n",
      " 38  tipovivi5        9557 non-null   int64  \n",
      " 39  computer         9557 non-null   int64  \n",
      " 40  television       9557 non-null   int64  \n",
      " 41  mobilephone      9557 non-null   int64  \n",
      " 42  qmobilephone     9557 non-null   int64  \n",
      " 43  lugar1           9557 non-null   int64  \n",
      " 44  lugar2           9557 non-null   int64  \n",
      " 45  lugar3           9557 non-null   int64  \n",
      " 46  lugar4           9557 non-null   int64  \n",
      " 47  lugar5           9557 non-null   int64  \n",
      " 48  lugar6           9557 non-null   int64  \n",
      " 49  area1            9557 non-null   int64  \n",
      " 50  area2            9557 non-null   int64  \n",
      " 51  age              9557 non-null   int64  \n",
      " 52  SQBescolari      9557 non-null   int64  \n",
      " 53  SQBage           9557 non-null   int64  \n",
      " 54  SQBhogar_total   9557 non-null   int64  \n",
      " 55  SQBedjefe        9557 non-null   int64  \n",
      " 56  SQBhogar_nin     9557 non-null   int64  \n",
      " 57  SQBovercrowding  9557 non-null   float64\n",
      " 58  SQBdependency    9557 non-null   float64\n",
      " 59  SQBmeaned        9552 non-null   float64\n",
      " 60  agesq            9557 non-null   int64  \n",
      " 61  Target           9557 non-null   int64  \n",
      "dtypes: float64(5), int64(53), object(4)\n",
      "memory usage: 4.5+ MB\n"
     ]
    }
   ],
   "source": [
    "# Question 2 - Understand the type of data\n",
    "# Look at dataset with .info()\n",
    "train.iloc[:, 0:80].info()\n",
    "train.iloc[:, 81:].info()"
   ]
  },
  {
   "attachments": {},
   "cell_type": "markdown",
   "metadata": {},
   "source": [
    "#### Question 3 - Check if there are any biases in your dataset.\n",
    "1. Columns with high percentage of missing values can be removed as the the relationship between the feature and target cannot be analyzed accurately.\n",
    "2. However, if the feature is important, removing the observations with missing values might work better.\n",
    "3. Determine the method to fill in the remaining missing values based on the underlying distribution of the feature.\n",
    "4. Check if the target counts are balanced between the 4 targets."
   ]
  },
  {
   "cell_type": "code",
   "execution_count": 92,
   "metadata": {},
   "outputs": [
    {
     "data": {
      "text/plain": [
       "4    5996\n",
       "2    1597\n",
       "3    1209\n",
       "1     755\n",
       "Name: Target, dtype: int64"
      ]
     },
     "execution_count": 92,
     "metadata": {},
     "output_type": "execute_result"
    }
   ],
   "source": [
    "# Question 3 - Check if there are any biases in your dataset.\n",
    "train[\"Target\"].value_counts()"
   ]
  },
  {
   "attachments": {},
   "cell_type": "markdown",
   "metadata": {},
   "source": [
    "#### Question 4 - Check whether all members of the house have the same poverty level.\n",
    "1. Feature `idhogar` seems to be the household ID.\n",
    "2. Poverty level is the `\"Target\"` feature.\n",
    "3. Group the families together in the dataframe, and create a dictionary with key as the household ID and value as number of different poverty levels within the household."
   ]
  },
  {
   "cell_type": "code",
   "execution_count": 95,
   "metadata": {},
   "outputs": [
    {
     "data": {
      "text/html": [
       "<div>\n",
       "<style scoped>\n",
       "    .dataframe tbody tr th:only-of-type {\n",
       "        vertical-align: middle;\n",
       "    }\n",
       "\n",
       "    .dataframe tbody tr th {\n",
       "        vertical-align: top;\n",
       "    }\n",
       "\n",
       "    .dataframe thead th {\n",
       "        text-align: right;\n",
       "    }\n",
       "</style>\n",
       "<table border=\"1\" class=\"dataframe\">\n",
       "  <thead>\n",
       "    <tr style=\"text-align: right;\">\n",
       "      <th></th>\n",
       "      <th>plvl</th>\n",
       "    </tr>\n",
       "  </thead>\n",
       "  <tbody>\n",
       "    <tr>\n",
       "      <th>0172ab1d9</th>\n",
       "      <td>2</td>\n",
       "    </tr>\n",
       "    <tr>\n",
       "      <th>03f4e5f4d</th>\n",
       "      <td>2</td>\n",
       "    </tr>\n",
       "    <tr>\n",
       "      <th>0511912b6</th>\n",
       "      <td>2</td>\n",
       "    </tr>\n",
       "    <tr>\n",
       "      <th>078a0b6e2</th>\n",
       "      <td>2</td>\n",
       "    </tr>\n",
       "    <tr>\n",
       "      <th>09e25d616</th>\n",
       "      <td>2</td>\n",
       "    </tr>\n",
       "    <tr>\n",
       "      <th>...</th>\n",
       "      <td>...</td>\n",
       "    </tr>\n",
       "    <tr>\n",
       "      <th>e65d4b943</th>\n",
       "      <td>2</td>\n",
       "    </tr>\n",
       "    <tr>\n",
       "      <th>efd3aec61</th>\n",
       "      <td>2</td>\n",
       "    </tr>\n",
       "    <tr>\n",
       "      <th>f006348ed</th>\n",
       "      <td>2</td>\n",
       "    </tr>\n",
       "    <tr>\n",
       "      <th>f7b421c2c</th>\n",
       "      <td>2</td>\n",
       "    </tr>\n",
       "    <tr>\n",
       "      <th>f94589d38</th>\n",
       "      <td>2</td>\n",
       "    </tr>\n",
       "  </tbody>\n",
       "</table>\n",
       "<p>85 rows × 1 columns</p>\n",
       "</div>"
      ],
      "text/plain": [
       "           plvl\n",
       "0172ab1d9     2\n",
       "03f4e5f4d     2\n",
       "0511912b6     2\n",
       "078a0b6e2     2\n",
       "09e25d616     2\n",
       "...         ...\n",
       "e65d4b943     2\n",
       "efd3aec61     2\n",
       "f006348ed     2\n",
       "f7b421c2c     2\n",
       "f94589d38     2\n",
       "\n",
       "[85 rows x 1 columns]"
      ]
     },
     "execution_count": 95,
     "metadata": {},
     "output_type": "execute_result"
    }
   ],
   "source": [
    "# Group the household together based on \"idhogar\" column.\n",
    "grouped_fam = train.groupby(\"idhogar\", as_index=False)\n",
    "\n",
    "# Create dictionary with key as household ID and value as number of poverty \n",
    "# levels within the household. \n",
    "grouped_plvl = {group: len(set(frame[\"Target\"])) for group, frame in grouped_fam}\n",
    "\n",
    "# If length of set(\"Target\") > 1, it means more than one poverty levels. \n",
    "unequal_plvl = dict(filter(lambda item: item[1] > 1, grouped_plvl.items()))\n",
    "\n",
    "# Covert to data frame. \n",
    "unequal_plvl = pd.DataFrame.from_dict(unequal_plvl, orient=\"index\", columns=[\"plvl\"])\n",
    "unequal_plvl"
   ]
  },
  {
   "attachments": {},
   "cell_type": "markdown",
   "metadata": {},
   "source": [
    "#### Question 5 - Check if there is a house without family head.\n",
    "1. Check if `parentesco1` is equal to 0 for each of the grouped household based on `idhogar`.\n",
    "    * This means there isn't a household head within the household. "
   ]
  },
  {
   "cell_type": "code",
   "execution_count": 94,
   "metadata": {},
   "outputs": [
    {
     "data": {
      "text/html": [
       "<div>\n",
       "<style scoped>\n",
       "    .dataframe tbody tr th:only-of-type {\n",
       "        vertical-align: middle;\n",
       "    }\n",
       "\n",
       "    .dataframe tbody tr th {\n",
       "        vertical-align: top;\n",
       "    }\n",
       "\n",
       "    .dataframe thead th {\n",
       "        text-align: right;\n",
       "    }\n",
       "</style>\n",
       "<table border=\"1\" class=\"dataframe\">\n",
       "  <thead>\n",
       "    <tr style=\"text-align: right;\">\n",
       "      <th></th>\n",
       "      <th>mean</th>\n",
       "    </tr>\n",
       "    <tr>\n",
       "      <th>idhogar</th>\n",
       "      <th></th>\n",
       "    </tr>\n",
       "  </thead>\n",
       "  <tbody>\n",
       "    <tr>\n",
       "      <th>03c6bdf85</th>\n",
       "      <td>0.0</td>\n",
       "    </tr>\n",
       "    <tr>\n",
       "      <th>09b195e7a</th>\n",
       "      <td>0.0</td>\n",
       "    </tr>\n",
       "    <tr>\n",
       "      <th>1367ab31d</th>\n",
       "      <td>0.0</td>\n",
       "    </tr>\n",
       "    <tr>\n",
       "      <th>1bc617b23</th>\n",
       "      <td>0.0</td>\n",
       "    </tr>\n",
       "    <tr>\n",
       "      <th>374ca5a19</th>\n",
       "      <td>0.0</td>\n",
       "    </tr>\n",
       "    <tr>\n",
       "      <th>61c10e099</th>\n",
       "      <td>0.0</td>\n",
       "    </tr>\n",
       "    <tr>\n",
       "      <th>6b1b2405f</th>\n",
       "      <td>0.0</td>\n",
       "    </tr>\n",
       "    <tr>\n",
       "      <th>896fe6d3e</th>\n",
       "      <td>0.0</td>\n",
       "    </tr>\n",
       "    <tr>\n",
       "      <th>a0812ef17</th>\n",
       "      <td>0.0</td>\n",
       "    </tr>\n",
       "    <tr>\n",
       "      <th>ad687ad89</th>\n",
       "      <td>0.0</td>\n",
       "    </tr>\n",
       "    <tr>\n",
       "      <th>b1f4d89d7</th>\n",
       "      <td>0.0</td>\n",
       "    </tr>\n",
       "    <tr>\n",
       "      <th>bfd5067c2</th>\n",
       "      <td>0.0</td>\n",
       "    </tr>\n",
       "    <tr>\n",
       "      <th>c0c8a5013</th>\n",
       "      <td>0.0</td>\n",
       "    </tr>\n",
       "    <tr>\n",
       "      <th>d363d9183</th>\n",
       "      <td>0.0</td>\n",
       "    </tr>\n",
       "    <tr>\n",
       "      <th>f2bfa75c4</th>\n",
       "      <td>0.0</td>\n",
       "    </tr>\n",
       "  </tbody>\n",
       "</table>\n",
       "</div>"
      ],
      "text/plain": [
       "           mean\n",
       "idhogar        \n",
       "03c6bdf85   0.0\n",
       "09b195e7a   0.0\n",
       "1367ab31d   0.0\n",
       "1bc617b23   0.0\n",
       "374ca5a19   0.0\n",
       "61c10e099   0.0\n",
       "6b1b2405f   0.0\n",
       "896fe6d3e   0.0\n",
       "a0812ef17   0.0\n",
       "ad687ad89   0.0\n",
       "b1f4d89d7   0.0\n",
       "bfd5067c2   0.0\n",
       "c0c8a5013   0.0\n",
       "d363d9183   0.0\n",
       "f2bfa75c4   0.0"
      ]
     },
     "execution_count": 94,
     "metadata": {},
     "output_type": "execute_result"
    }
   ],
   "source": [
    "# Use the aggregate function to calculate the mean of \"parentesco1\" in each \n",
    "# household.\n",
    "grouped_fam_count = grouped_fam[\"parentesco1\"].aggregate([np.mean])\n",
    "\n",
    "# Family without family head would have 0 as their mean \n",
    "no_fam_head = grouped_fam_count[grouped_fam_count[\"mean\"] == 0]\n",
    "\n",
    "no_fam_head"
   ]
  },
  {
   "attachments": {},
   "cell_type": "markdown",
   "metadata": {},
   "source": [
    "#### Question 6 - Set poverty level of the members and the head of the house within a family.\n",
    "1. Assuming the question should read as \"Set poverty level of the members <u>TO</u> the head of the house within a family\".\n",
    "2. Change the poverty levels of all members within the household to the poverty level of that household head."
   ]
  },
  {
   "cell_type": "code",
   "execution_count": 96,
   "metadata": {},
   "outputs": [
    {
     "data": {
      "text/plain": [
       "(9557, 143)"
      ]
     },
     "execution_count": 96,
     "metadata": {},
     "output_type": "execute_result"
    }
   ],
   "source": [
    "# Create a empty dataframe holder\n",
    "df_holder = pd.DataFrame()\n",
    "\n",
    "for house_id in unequal_plvl.index:\n",
    "    \n",
    "    # Subset out the members from the household\n",
    "    temp_df = train[train[\"idhogar\"] == house_id]\n",
    "    \n",
    "    # Retrieve the poverty level of head of household\n",
    "    head_plvl = temp_df[temp_df[\"parentesco1\"] == 1][\"Target\"]\n",
    "    \n",
    "    # Set poverty level of members of household to be equal head\n",
    "    temp_df[\"Target\"] = head_plvl.iloc[0]\n",
    "    \n",
    "    # Concatenate the data frames together\n",
    "    df_holder = pd.concat([df_holder, temp_df], axis=0)\n",
    "\n",
    "# Drop the members from the train dataframe, then concatenate with new df.\n",
    "train_dropped = train[~train[\"idhogar\"].isin(unequal_plvl.index)]\n",
    "train = pd.concat([train_dropped, df_holder])\n",
    "\n",
    "# Check if shape of data frame is correct.\n",
    "train.shape\n"
   ]
  },
  {
   "attachments": {},
   "cell_type": "markdown",
   "metadata": {},
   "source": [
    "#### Question 7 - Count how many null values are existing the columns.\n",
    "1. Count the number of null values in each column.\n",
    "2. Calculate the percentage of null values in each column."
   ]
  },
  {
   "cell_type": "code",
   "execution_count": 97,
   "metadata": {},
   "outputs": [
    {
     "data": {
      "text/html": [
       "<div>\n",
       "<style scoped>\n",
       "    .dataframe tbody tr th:only-of-type {\n",
       "        vertical-align: middle;\n",
       "    }\n",
       "\n",
       "    .dataframe tbody tr th {\n",
       "        vertical-align: top;\n",
       "    }\n",
       "\n",
       "    .dataframe thead th {\n",
       "        text-align: right;\n",
       "    }\n",
       "</style>\n",
       "<table border=\"1\" class=\"dataframe\">\n",
       "  <thead>\n",
       "    <tr style=\"text-align: right;\">\n",
       "      <th></th>\n",
       "      <th>ms_values_count</th>\n",
       "      <th>ms_values_perc</th>\n",
       "    </tr>\n",
       "  </thead>\n",
       "  <tbody>\n",
       "    <tr>\n",
       "      <th>v2a1</th>\n",
       "      <td>6860</td>\n",
       "      <td>71.779847</td>\n",
       "    </tr>\n",
       "    <tr>\n",
       "      <th>v18q1</th>\n",
       "      <td>7342</td>\n",
       "      <td>76.823271</td>\n",
       "    </tr>\n",
       "    <tr>\n",
       "      <th>rez_esc</th>\n",
       "      <td>7928</td>\n",
       "      <td>82.954902</td>\n",
       "    </tr>\n",
       "    <tr>\n",
       "      <th>meaneduc</th>\n",
       "      <td>5</td>\n",
       "      <td>0.052318</td>\n",
       "    </tr>\n",
       "    <tr>\n",
       "      <th>SQBmeaned</th>\n",
       "      <td>5</td>\n",
       "      <td>0.052318</td>\n",
       "    </tr>\n",
       "  </tbody>\n",
       "</table>\n",
       "</div>"
      ],
      "text/plain": [
       "           ms_values_count  ms_values_perc\n",
       "v2a1                  6860       71.779847\n",
       "v18q1                 7342       76.823271\n",
       "rez_esc               7928       82.954902\n",
       "meaneduc                 5        0.052318\n",
       "SQBmeaned                5        0.052318"
      ]
     },
     "execution_count": 97,
     "metadata": {},
     "output_type": "execute_result"
    }
   ],
   "source": [
    "# Calulate percentage of missing values from each column\n",
    "ms_values_count = train.isnull().sum()\n",
    "ms_values_perc = 100 * train.isnull().sum() / len(train)\n",
    "\n",
    "ms_values_df = pd.DataFrame({\"ms_values_count\": ms_values_count,\n",
    "                             \"ms_values_perc\": ms_values_perc})\n",
    "ms_values_df[ms_values_df[\"ms_values_perc\"] > 0]"
   ]
  },
  {
   "attachments": {},
   "cell_type": "markdown",
   "metadata": {},
   "source": [
    "#### Question 8 - Remove null value rows of the target variable.\n",
    "1. `Target` column does not contain any null values."
   ]
  },
  {
   "cell_type": "code",
   "execution_count": 98,
   "metadata": {},
   "outputs": [
    {
     "data": {
      "text/plain": [
       "0"
      ]
     },
     "execution_count": 98,
     "metadata": {},
     "output_type": "execute_result"
    }
   ],
   "source": [
    "# Check if there is any null values under the target variable\n",
    "train[\"Target\"].isnull().sum()"
   ]
  },
  {
   "attachments": {},
   "cell_type": "markdown",
   "metadata": {},
   "source": [
    "#### Question 9 - Predict the accuracy using random forest classifier.\n",
    "1. Convert remaining features of `dtype=\"object\"` into numerical values.\n",
    "2. Perform additional data preprocessing and cleaning necessary.\n",
    "3. `meaneduc` feature has missing values. To fill in missing values with mean."
   ]
  },
  {
   "cell_type": "code",
   "execution_count": 101,
   "metadata": {},
   "outputs": [],
   "source": [
    "# Convert \"dependency\", \"edjefe\" and \"edjefa\" into numerical features.\n",
    "total_dependents = train[\"hogar_nin\"] + train[\"hogar_mayor\"]\n",
    "train[\"dependency\"] = total_dependents / train[\"hogar_adul\"]\n",
    "\n",
    "# Convert inf values to 0\n",
    "train[\"dependency\"] = train[\"dependency\"].replace(np.inf, 0)\n",
    "\n",
    "\n",
    "train[\"edjefe\"] = train[\"edjefe\"].replace({\"yes\": 1, \"no\": 0}).apply(int)\n",
    "train[\"edjefa\"] = train[\"edjefa\"].replace({\"yes\": 1, \"no\": 0}).apply(int)\n"
   ]
  },
  {
   "cell_type": "code",
   "execution_count": 102,
   "metadata": {},
   "outputs": [
    {
     "data": {
      "text/plain": [
       "Index(['Id', 'idhogar'], dtype='object')"
      ]
     },
     "execution_count": 102,
     "metadata": {},
     "output_type": "execute_result"
    }
   ],
   "source": [
    "# Check remaining features of type \"object\"\n",
    "train.select_dtypes(include=[\"object\"]).columns"
   ]
  },
  {
   "cell_type": "code",
   "execution_count": 103,
   "metadata": {},
   "outputs": [
    {
     "data": {
      "image/png": "[encoded data removed]",
      "text/plain": [
       "<Figure size 640x480 with 1 Axes>"
      ]
     },
     "metadata": {},
     "output_type": "display_data"
    }
   ],
   "source": [
    "# Plot histogram of feature to determine its distribution\n",
    "sns.histplot(train[\"meaneduc\"]);"
   ]
  },
  {
   "attachments": {},
   "cell_type": "markdown",
   "metadata": {},
   "source": [
    "As mentioned previously, I'm going to try two different cross validation with random forest, one (Part I) to drop the columns containing high percentage of missing values, another (Part II) to remove the events (family members in household in this case) that carry missing values for `v2a1` feature, which is the monthly rent payment of house that they live in. "
   ]
  },
  {
   "cell_type": "code",
   "execution_count": 104,
   "metadata": {},
   "outputs": [],
   "source": [
    "# Random Forest Part I - Dropping Columns\n",
    "# Drop columns with missing values and not useful\n",
    "train_I = train.drop([\"Id\", \"v2a1\", \"v18q1\", \"idhogar\", \"rez_esc\"], axis=1)\n",
    "train_I[\"dependency\"] = train_I[\"dependency\"].astype(np.float32)\n",
    "\n",
    "\n",
    "# Perform train test split before missing in missing values\n",
    "features = train_I.drop(\"Target\", axis=1)\n",
    "target = train_I[\"Target\"]\n",
    "\n",
    "x_train, x_test, y_train, y_test = train_test_split(features, \n",
    "                                                    target, \n",
    "                                                    test_size=0.2, \n",
    "                                                    random_state=1988)\n",
    "\n",
    "\n",
    "imputer = Imputer(strategy=\"mean\")\n",
    "imputer.fit(x_train);\n",
    "\n",
    "x_train = imputer.transform(x_train)\n",
    "x_test = imputer.transform(x_test)\n",
    "\n",
    "x_train = pd.DataFrame(x_train, columns=features.columns)\n",
    "x_test = pd.DataFrame(x_test, columns=features.columns)\n"
   ]
  },
  {
   "cell_type": "code",
   "execution_count": 105,
   "metadata": {},
   "outputs": [],
   "source": [
    "# Question 9 - Predict the accuracy using random forest classifier.\n",
    "rf = RandomForestClassifier(random_state=1988)\n",
    "rf.fit(x_train, y_train);\n",
    "y_pred = rf.predict(x_test)"
   ]
  },
  {
   "cell_type": "code",
   "execution_count": 108,
   "metadata": {},
   "outputs": [
    {
     "data": {
      "image/png": "[encoded data removed]",
      "text/plain": [
       "<Figure size 640x480 with 1 Axes>"
      ]
     },
     "metadata": {},
     "output_type": "display_data"
    }
   ],
   "source": [
    "feat_imp = pd.DataFrame()\n",
    "feat_imp['Features'] = x_train.columns.values\n",
    "feat_imp['importance'] = rf.feature_importances_\n",
    "feat_imp = feat_imp.sort_values(by='importance', ascending=False)\n",
    "sns.barplot(y=\"Features\", x=\"importance\", data=feat_imp);"
   ]
  },
  {
   "attachments": {},
   "cell_type": "markdown",
   "metadata": {},
   "source": [
    "There are multiple features that have importance of < 0.001 (arbitrary value). I will remove these features from the second cross validated random forest to speed things up and to see if the predictions will remain accurate. They might be associated with other features in the dataset, that's why the model did not use them. Or if they really do not impact the target outcome of this dataset, basically the features are not associated with the poverty level of the household. "
   ]
  },
  {
   "cell_type": "code",
   "execution_count": 115,
   "metadata": {},
   "outputs": [
    {
     "data": {
      "text/plain": [
       "array(['techoentrepiso', 'estadocivil4', 'estadocivil1', 'instlevel6',\n",
       "       'paredzinc', 'pisonotiene', 'pareddes', 'instlevel7',\n",
       "       'parentesco4', 'parentesco9', 'abastaguano', 'v14a',\n",
       "       'parentesco11', 'sanitario6', 'energcocinar1', 'parentesco7',\n",
       "       'noelec', 'techocane', 'parentesco5', 'sanitario1', 'parentesco10',\n",
       "       'parentesco12', 'paredother', 'parentesco8', 'paredfibras',\n",
       "       'elimbasu4', 'pisonatur', 'planpri', 'instlevel9', 'elimbasu6',\n",
       "       'pisoother', 'techootro', 'elimbasu5'], dtype=object)"
      ]
     },
     "execution_count": 115,
     "metadata": {},
     "output_type": "execute_result"
    }
   ],
   "source": [
    "low_impt = feat_imp[feat_imp[\"importance\"] < 0.001][\"Features\"].values"
   ]
  },
  {
   "cell_type": "code",
   "execution_count": 122,
   "metadata": {},
   "outputs": [
    {
     "name": "stdout",
     "output_type": "stream",
     "text": [
      "Confusion Matrix:\n",
      "[[ 110    5    0   19]\n",
      " [   0  238    0   35]\n",
      " [   2    2  206   47]\n",
      " [   0    7    2 1239]] \n",
      "\n",
      "Classification Report:\n",
      "              precision    recall  f1-score   support\n",
      "\n",
      "           1       0.98      0.82      0.89       134\n",
      "           2       0.94      0.87      0.91       273\n",
      "           3       0.99      0.80      0.89       257\n",
      "           4       0.92      0.99      0.96      1248\n",
      "\n",
      "    accuracy                           0.94      1912\n",
      "   macro avg       0.96      0.87      0.91      1912\n",
      "weighted avg       0.94      0.94      0.94      1912\n",
      "\n"
     ]
    }
   ],
   "source": [
    "# Create confusion matrix to check the accuracy and other metrics for \n",
    "# multi-categories classification\n",
    "c_matrix = confusion_matrix(y_test, y_pred)\n",
    "\n",
    "print(\"Confusion Matrix:\")\n",
    "print(c_matrix, \"\\n\")\n",
    "print(\"Classification Report:\")\n",
    "print(classification_report(y_test, y_pred))"
   ]
  },
  {
   "attachments": {},
   "cell_type": "markdown",
   "metadata": {},
   "source": [
    "#### Question 10 - Check the accuracy using random forest with cross validation. \n",
    "1. Tuning of hyperparameters.\n",
    "2. `max_depth` was initially set at `2-10`, which returns `max_depth=10` as best parameter.\n",
    "3. `max_depth` was set set at `11-20`, which returns `max_depth=20` as best parameter.\n",
    "4. `max_depth` was set set at `21-30`, which returns `max_depth=21` as best parameter.\n",
    "5. It took ~25 minutes to run the entire cross validation for this round. "
   ]
  },
  {
   "cell_type": "code",
   "execution_count": 118,
   "metadata": {},
   "outputs": [
    {
     "name": "stdout",
     "output_type": "stream",
     "text": [
      "Best parameters using grid search: \n",
      " {'criterion': 'entropy', 'max_depth': 21, 'max_features': None}\n",
      "Time taken in grid search: 499.98\n"
     ]
    }
   ],
   "source": [
    "rf_cv = RandomForestClassifier(random_state=1998)\n",
    "np.random.seed(2008)\n",
    "start = time.time()\n",
    "\n",
    "param_dist = {\"max_depth\": list(range(21, 30)),\n",
    "              \"max_features\": [\"sqrt\", \"log2\", None],\n",
    "              \"criterion\": [\"gini\", \"entropy\"]}\n",
    "\n",
    "cv_tree = GridSearchCV(rf_cv, \n",
    "                       cv=10, \n",
    "                       param_grid=param_dist,\n",
    "                       n_jobs=-1,\n",
    "                       scoring=\"accuracy\")\n",
    "\n",
    "cv_tree.fit(x_train, y_train)\n",
    "print(\"Best parameters using grid search: \\n\",\n",
    "      cv_tree.best_params_)\n",
    "end = time.time()\n",
    "print(\"Time taken in grid search: {0:.2f}\".format(end-start))"
   ]
  },
  {
   "cell_type": "code",
   "execution_count": 121,
   "metadata": {},
   "outputs": [
    {
     "name": "stdout",
     "output_type": "stream",
     "text": [
      "Confusion Matrix:\n",
      "[[ 122    2    0   10]\n",
      " [   0  256    0   17]\n",
      " [   3    3  231   20]\n",
      " [   0    9    1 1238]] \n",
      "\n",
      "Classification Report:\n",
      "              precision    recall  f1-score   support\n",
      "\n",
      "           1       0.98      0.91      0.94       134\n",
      "           2       0.95      0.94      0.94       273\n",
      "           3       1.00      0.90      0.94       257\n",
      "           4       0.96      0.99      0.98      1248\n",
      "\n",
      "    accuracy                           0.97      1912\n",
      "   macro avg       0.97      0.93      0.95      1912\n",
      "weighted avg       0.97      0.97      0.97      1912\n",
      "\n"
     ]
    }
   ],
   "source": [
    "# Train new model based on optimized parameters\n",
    "rf_cv = RandomForestClassifier(random_state=1998)\n",
    "\n",
    "rf_cv.set_params(criterion=\"entropy\", max_features=None,max_depth=21)\n",
    "rf_cv.fit(x_train, y_train)\n",
    "y_pred_cv = rf_cv.predict(x_test)\n",
    "\n",
    "# Confusion matrix\n",
    "c_matrix = confusion_matrix(y_test, y_pred_cv)\n",
    "\n",
    "print(\"Confusion Matrix:\")\n",
    "print(c_matrix, \"\\n\")\n",
    "print(\"Classification Report:\")\n",
    "print(classification_report(y_test, y_pred_cv))"
   ]
  },
  {
   "attachments": {},
   "cell_type": "markdown",
   "metadata": {},
   "source": [
    "A slight improvement of the accuracy score, and other metrics when the parameters are optmized. Next is to run the cross validation a second time, with rows carrying missing values for the feature `v2a1`, and drop the features previously shown not to be important to the model. "
   ]
  },
  {
   "cell_type": "code",
   "execution_count": 140,
   "metadata": {},
   "outputs": [
    {
     "data": {
      "text/plain": [
       "(2693, 106)"
      ]
     },
     "execution_count": 140,
     "metadata": {},
     "output_type": "execute_result"
    }
   ],
   "source": [
    "# Random Forest Part II - Dropping events\n",
    "# Drop columns with missing values and not useful\n",
    "\n",
    "features_to_drop = [\"Id\", \"v18q1\", \"idhogar\", \"rez_esc\"] + list(low_impt)\n",
    "train_II = train.drop(features_to_drop, axis=1).dropna()\n",
    "train_II.shape"
   ]
  },
  {
   "cell_type": "code",
   "execution_count": 146,
   "metadata": {},
   "outputs": [
    {
     "data": {
      "text/plain": [
       "4    1906\n",
       "2     321\n",
       "3     299\n",
       "1     167\n",
       "Name: Target, dtype: int64"
      ]
     },
     "execution_count": 146,
     "metadata": {},
     "output_type": "execute_result"
    }
   ],
   "source": [
    "# Check if the \"Target\" outcome still have a good distribution and number\n",
    "train_II[\"Target\"].value_counts()"
   ]
  },
  {
   "cell_type": "code",
   "execution_count": 141,
   "metadata": {},
   "outputs": [],
   "source": [
    "# Perform train test split before missing in missing values\n",
    "features = train_II.drop(\"Target\", axis=1)\n",
    "target = train_II[\"Target\"]\n",
    "\n",
    "x_train, x_test, y_train, y_test = train_test_split(features, \n",
    "                                                    target, \n",
    "                                                    test_size=0.2, \n",
    "                                                    random_state=1988)\n",
    "\n",
    "imputer = Imputer(strategy=\"mean\")\n",
    "imputer.fit(x_train);\n",
    "\n",
    "x_train = imputer.transform(x_train)\n",
    "x_test = imputer.transform(x_test)\n",
    "\n",
    "x_train = pd.DataFrame(x_train, columns=features.columns)\n",
    "x_test = pd.DataFrame(x_test, columns=features.columns)"
   ]
  },
  {
   "cell_type": "code",
   "execution_count": 144,
   "metadata": {},
   "outputs": [
    {
     "name": "stdout",
     "output_type": "stream",
     "text": [
      "Confusion Matrix:\n",
      "[[ 31   0   0   0]\n",
      " [  0  67   0   5]\n",
      " [  0   0  55   6]\n",
      " [  0   0   0 375]] \n",
      "\n",
      "Classification Report:\n",
      "              precision    recall  f1-score   support\n",
      "\n",
      "           1       1.00      1.00      1.00        31\n",
      "           2       1.00      0.93      0.96        72\n",
      "           3       1.00      0.90      0.95        61\n",
      "           4       0.97      1.00      0.99       375\n",
      "\n",
      "    accuracy                           0.98       539\n",
      "   macro avg       0.99      0.96      0.97       539\n",
      "weighted avg       0.98      0.98      0.98       539\n",
      "\n"
     ]
    }
   ],
   "source": [
    "# Training the model\n",
    "rf = RandomForestClassifier(random_state=1988)\n",
    "rf.fit(x_train, y_train);\n",
    "y_pred_II = rf.predict(x_test)\n",
    "\n",
    "# Create confusion matrix\n",
    "c_matrix = confusion_matrix(y_test, y_pred_II)\n",
    "\n",
    "print(\"Confusion Matrix:\")\n",
    "print(c_matrix, \"\\n\")\n",
    "print(\"Classification Report:\")\n",
    "print(classification_report(y_test, y_pred_II))"
   ]
  },
  {
   "cell_type": "code",
   "execution_count": 148,
   "metadata": {},
   "outputs": [
    {
     "name": "stdout",
     "output_type": "stream",
     "text": [
      "Best parameters using grid search: \n",
      " {'criterion': 'entropy', 'max_depth': 15, 'max_features': None}\n"
     ]
    }
   ],
   "source": [
    "# Repeat the cross validation with the new training set\n",
    "rf_cv = RandomForestClassifier(random_state=1998)\n",
    "\n",
    "param_dist = {\"max_depth\": range(2, 30),\n",
    "              \"max_features\": [\"sqrt\", \"log2\", None],\n",
    "              \"criterion\": [\"gini\", \"entropy\"]}\n",
    "\n",
    "cv_tree = GridSearchCV(rf_cv, \n",
    "                       cv=10, \n",
    "                       param_grid=param_dist,\n",
    "                       n_jobs=-1,\n",
    "                       scoring=\"accuracy\")\n",
    "\n",
    "cv_tree.fit(x_train, y_train)\n",
    "print(\"Best parameters using grid search: \\n\",\n",
    "      cv_tree.best_params_)"
   ]
  },
  {
   "cell_type": "code",
   "execution_count": 149,
   "metadata": {},
   "outputs": [
    {
     "name": "stdout",
     "output_type": "stream",
     "text": [
      "Confusion Matrix:\n",
      "[[ 31   0   0   0]\n",
      " [  0  70   0   2]\n",
      " [  0   0  56   5]\n",
      " [  0   1   2 372]] \n",
      "\n",
      "Classification Report:\n",
      "              precision    recall  f1-score   support\n",
      "\n",
      "           1       1.00      1.00      1.00        31\n",
      "           2       0.99      0.97      0.98        72\n",
      "           3       0.97      0.92      0.94        61\n",
      "           4       0.98      0.99      0.99       375\n",
      "\n",
      "    accuracy                           0.98       539\n",
      "   macro avg       0.98      0.97      0.98       539\n",
      "weighted avg       0.98      0.98      0.98       539\n",
      "\n"
     ]
    }
   ],
   "source": [
    "# Train new model based on optimized parameters\n",
    "rf_cv = RandomForestClassifier(random_state=1998)\n",
    "\n",
    "rf_cv.set_params(criterion=\"entropy\", max_features=None,max_depth=15)\n",
    "rf_cv.fit(x_train, y_train)\n",
    "y_pred_cv_II = rf_cv.predict(x_test)\n",
    "\n",
    "# Confusion matrix\n",
    "c_matrix = confusion_matrix(y_test, y_pred_cv_II)\n",
    "\n",
    "print(\"Confusion Matrix:\")\n",
    "print(c_matrix, \"\\n\")\n",
    "print(\"Classification Report:\")\n",
    "print(classification_report(y_test, y_pred_cv_II))"
   ]
  },
  {
   "attachments": {},
   "cell_type": "markdown",
   "metadata": {},
   "source": [
    "Without the cross validation run, there seems to be a slight improvement over the first iteration of the random forest, where features carrying high percentage of missing values were dropped. This might mean that the monthly rent payment feature is important in determining if the household belong to a certain poverty level. \n",
    "\n",
    "With cross validation on the small dataset, there is not much improvement in the metrics over the original random forest. \n",
    "\n",
    "The importance of the `v2a1` feature can be seen in the following table, where it ranks second on the importance. "
   ]
  },
  {
   "cell_type": "code",
   "execution_count": 152,
   "metadata": {},
   "outputs": [
    {
     "data": {
      "text/html": [
       "<div>\n",
       "<style scoped>\n",
       "    .dataframe tbody tr th:only-of-type {\n",
       "        vertical-align: middle;\n",
       "    }\n",
       "\n",
       "    .dataframe tbody tr th {\n",
       "        vertical-align: top;\n",
       "    }\n",
       "\n",
       "    .dataframe thead th {\n",
       "        text-align: right;\n",
       "    }\n",
       "</style>\n",
       "<table border=\"1\" class=\"dataframe\">\n",
       "  <thead>\n",
       "    <tr style=\"text-align: right;\">\n",
       "      <th></th>\n",
       "      <th>Features</th>\n",
       "      <th>importance</th>\n",
       "    </tr>\n",
       "  </thead>\n",
       "  <tbody>\n",
       "    <tr>\n",
       "      <th>66</th>\n",
       "      <td>dependency</td>\n",
       "      <td>0.112696</td>\n",
       "    </tr>\n",
       "    <tr>\n",
       "      <th>0</th>\n",
       "      <td>v2a1</td>\n",
       "      <td>0.101741</td>\n",
       "    </tr>\n",
       "    <tr>\n",
       "      <th>103</th>\n",
       "      <td>SQBmeaned</td>\n",
       "      <td>0.071116</td>\n",
       "    </tr>\n",
       "    <tr>\n",
       "      <th>69</th>\n",
       "      <td>meaneduc</td>\n",
       "      <td>0.064803</td>\n",
       "    </tr>\n",
       "    <tr>\n",
       "      <th>102</th>\n",
       "      <td>SQBdependency</td>\n",
       "      <td>0.029707</td>\n",
       "    </tr>\n",
       "  </tbody>\n",
       "</table>\n",
       "</div>"
      ],
      "text/plain": [
       "          Features  importance\n",
       "66      dependency    0.112696\n",
       "0             v2a1    0.101741\n",
       "103      SQBmeaned    0.071116\n",
       "69        meaneduc    0.064803\n",
       "102  SQBdependency    0.029707"
      ]
     },
     "execution_count": 152,
     "metadata": {},
     "output_type": "execute_result"
    }
   ],
   "source": [
    "feat_imp = pd.DataFrame()\n",
    "feat_imp['Features'] = x_train.columns.values\n",
    "feat_imp['importance'] = rf_cv.feature_importances_\n",
    "feat_imp = feat_imp.sort_values(by='importance', ascending=False)\n",
    "\n",
    "feat_imp.head()"
   ]
  }
 ],
 "metadata": {
  "kernelspec": {
   "display_name": "venv",
   "language": "python",
   "name": "python3"
  },
  "language_info": {
   "codemirror_mode": {
    "name": "ipython",
    "version": 3
   },
   "file_extension": ".py",
   "mimetype": "text/x-python",
   "name": "python",
   "nbconvert_exporter": "python",
   "pygments_lexer": "ipython3",
   "version": "3.10.7"
  },
  "orig_nbformat": 4,
  "vscode": {
   "interpreter": {
    "hash": "fd11f3380fa70e3455920893a60e5b10d61731084a1d9c89e6b3d2bda2e7bc1f"
   }
  }
 },
 "nbformat": 4,
 "nbformat_minor": 2
}
