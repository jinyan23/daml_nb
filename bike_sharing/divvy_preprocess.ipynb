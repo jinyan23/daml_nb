{
 "cells": [
  {
   "cell_type": "markdown",
   "metadata": {},
   "source": [
    "# Introduction\n",
    "This is an exploratory data analysis project using ridership data from Divvy, a bike sharing system, in Chicago, US. The data can be obtained from the [link](https://divvy-tripdata.s3.amazonaws.com/index.html) here. The data from Divvy contains the trip details, like the bike stations and trip durations etc. Additional [geocode](https://console.cloud.google.com/apis/library/geocoding-backend.googleapis.com) and [weather](https://console.cloud.google.com/marketplace/product/noaa-public/gsod) data from the Google Cloud Platform are included in. GCP was chosen as other geocoding and weather APIs on the net are subscription-based while GCP offers a 3-months free trial. \n",
    "\n",
    "The main hurdle for this analysis is the retrieval of accurate geocodes based on the bike station names. As the bike station names and the actual locations at which the stations are located are different, and GCP geocoding API returns slightly different outputs on runs from different days, the geocodes in this analysis are not 100% accurate. It would be best if Divvy has an additional station dataset that comes with the latitude and longitude data of the bike stations.\n",
    "\n",
    "The main objective of this analysis mainly lies with retrieving data from different sources (Divvy and Google Cloud) and combining the data for meaningful descriptive analysis of the whole dataset. Main questions would be how riders' behaviours change over different seasons, which are the most popular stations and trips and the demographics, trip duration and distance distributions of the riders. "
   ]
  },
  {
   "cell_type": "markdown",
   "metadata": {},
   "source": [
    "# Section 1: Load and clean data"
   ]
  },
  {
   "cell_type": "code",
   "execution_count": 27,
   "metadata": {},
   "outputs": [],
   "source": [
    "# Libraries\n",
    "import pandas as pd\n",
    "import numpy as np\n",
    "\n",
    "import os\n",
    "import math\n",
    "\n",
    "import json\n",
    "import httplib2 as http \n",
    "from urllib.parse import urlparse\n",
    "\n",
    "from datetime import datetime\n",
    "\n",
    "# Plotting libraries\n",
    "import matplotlib.pyplot as plt\n",
    "import plotly.graph_objects as go "
   ]
  },
  {
   "cell_type": "code",
   "execution_count": 2,
   "metadata": {},
   "outputs": [],
   "source": [
    "# Load dataset\n",
    "dir_path = \"../dataset/divvy/\"\n",
    "\n",
    "# Create empty data frame to collect all data\n",
    "df = pd.DataFrame()\n",
    "\n",
    "for i in os.listdir(dir_path):\n",
    "    \n",
    "    file_path = dir_path + i \n",
    "    if \"Divvy\" not in file_path:\n",
    "        continue\n",
    "    \n",
    "    temp = pd.read_csv(file_path)\n",
    "    \n",
    "    # Q2 column names are not consistent with the other 3 quarters.\n",
    "    temp.columns = ['trip_id', 'start_time', 'end_time', \n",
    "                    'bikeid', 'tripduration',\n",
    "                    'from_station_id', 'from_station_name', \n",
    "                    'to_station_id', 'to_station_name', \n",
    "                    'usertype', 'gender', 'birthyear']\n",
    "    \n",
    "    df = pd.concat([df, temp])"
   ]
  },
  {
   "cell_type": "code",
   "execution_count": 3,
   "metadata": {},
   "outputs": [],
   "source": [
    "# Preprocessing\n",
    "df[\"birthyear\"] = df[\"birthyear\"].astype(int, errors=\"ignore\")\n",
    "df = df[df[\"birthyear\"] >= 1919]            # remove people age > 100"
   ]
  },
  {
   "cell_type": "code",
   "execution_count": 4,
   "metadata": {},
   "outputs": [],
   "source": [
    "# Look for same stations with different station names\n",
    "def find_dup_stat():\n",
    "    \n",
    "    # Unique station ids (some stations have different names for the same id)\n",
    "    station_ids = np.sort(df[\"from_station_id\"].unique())\n",
    "\n",
    "    station_dict = dict()\n",
    "\n",
    "    for id in station_ids:\n",
    "        \n",
    "        stations_with_id = df[df[\"from_station_id\"] == id]\n",
    "        \n",
    "        unique_stat_name = stations_with_id[\"from_station_name\"].unique()\n",
    "        \n",
    "        if len(unique_stat_name) > 1:\n",
    "            station_dict[id] = unique_stat_name\n",
    "            \n",
    "    return station_dict"
   ]
  },
  {
   "cell_type": "code",
   "execution_count": null,
   "metadata": {},
   "outputs": [],
   "source": [
    "find_dup_stat()"
   ]
  },
  {
   "cell_type": "markdown",
   "metadata": {},
   "source": [
    "#### Quick Note\n",
    "* Assuming temporary stations to replace renovated stations are not far away, distance between the two stations are negligible.\n",
    "    * Remove ` (*)` and ` (Temp)`. "
   ]
  },
  {
   "cell_type": "code",
   "execution_count": 6,
   "metadata": {},
   "outputs": [],
   "source": [
    "# Replace special characters and temp station names\n",
    "df[\"from_station_name\"] = df[\"from_station_name\"].replace({\" \\(\\*\\)\": \"\", \" \\(Temp\\)\": \"\"}, regex=True)\n",
    "df[\"to_station_name\"] = df[\"to_station_name\"].replace({\" \\(\\*\\)\": \"\", \" \\(Temp\\)\": \"\"}, regex=True)"
   ]
  },
  {
   "cell_type": "markdown",
   "metadata": {},
   "source": [
    "#### Quick Note\n",
    "* Cannot find \"Franklin St & Quincy St\" station\n",
    "* Cannot find \"Racine Ave (May St) & Fulton St\" station\n",
    "* Cannot find \"Loomis St & Taylor St\" station\n",
    "* To replace these stations with the one closeby. "
   ]
  },
  {
   "cell_type": "code",
   "execution_count": 7,
   "metadata": {},
   "outputs": [],
   "source": [
    "# Replace names of three stations\n",
    "station_replace = {\"Loomis St & Taylor St\": \"Throop (Loomis) St & Taylor St\",\n",
    "                   \"Racine Ave \\(May St\\) & Fulton St\": \"Elizabeth (May) St & Fulton St\",\n",
    "                   \"Franklin St & Quincy St\": \"Franklin St & Adams St\"}\n",
    "\n",
    "df[\"from_station_name\"] = df[\"from_station_name\"].replace(station_replace, regex=True)\n",
    "df[\"to_station_name\"] = df[\"to_station_name\"].replace(station_replace, regex=True)"
   ]
  },
  {
   "cell_type": "code",
   "execution_count": 8,
   "metadata": {},
   "outputs": [
    {
     "data": {
      "text/plain": [
       "{}"
      ]
     },
     "execution_count": 8,
     "metadata": {},
     "output_type": "execute_result"
    }
   ],
   "source": [
    "find_dup_stat()"
   ]
  },
  {
   "cell_type": "code",
   "execution_count": null,
   "metadata": {},
   "outputs": [],
   "source": [
    "# Search for trips that aren't taken by customers or subscribers.\n",
    "from_station_name_count = df[\"from_station_name\"].value_counts()\n",
    "to_station_name_count = df[\"from_station_name\"].value_counts()\n",
    "\n",
    "from_station_name_count "
   ]
  },
  {
   "cell_type": "markdown",
   "metadata": {},
   "source": [
    "#### Quick Note\n",
    "* There are bike trips that look like servicing/repair jobs rather than trips taken by customers or subscribers. These are marked by unusual bike station names.\n",
    "* Names that are not bike stations so they will be removed from the analysis\n",
    "    * `DIVVY CASSETTE REPAIR MOBILE STATION`\n",
    "    * `LBS - BBB La Magie`\n",
    "    * `TS ~ DIVVY PARTS TESTING`\n",
    "    * `Special Events`\n",
    "    * `HUBBARD ST BIKE CHECKING (LBS-WH-TEST)`\n",
    "    * `DIVVY Map Frame B/C Station`"
   ]
  },
  {
   "cell_type": "code",
   "execution_count": 10,
   "metadata": {},
   "outputs": [],
   "source": [
    "# Remove trip records from analysis\n",
    "remove_records = [\"DIVVY CASSETTE REPAIR MOBILE STATION\", \n",
    "                  \"LBS - BBB La Magie\",\n",
    "                  \"TS ~ DIVVY PARTS TESTING\", \n",
    "                  \"Special Events\", \n",
    "                  \"HUBBARD ST BIKE CHECKING (LBS-WH-TEST)\", \n",
    "                  \"DIVVY Map Frame B/C Station\"]\n",
    "\n",
    "df = df[~df[\"from_station_name\"].isin(remove_records)]\n",
    "df = df[~df[\"to_station_name\"].isin(remove_records)]"
   ]
  },
  {
   "cell_type": "markdown",
   "metadata": {},
   "source": [
    "# Section 2: Retrieve geocoding data from Google Cloud Platform"
   ]
  },
  {
   "cell_type": "markdown",
   "metadata": {},
   "source": [
    "## Google Cloud Geocoding\n",
    "* To obtain the geocode coordinates from Google Cloud Geocoding API (free trial).\n",
    "* Other geocoding APIs on the net requires subscription fees.\n",
    "* Google Cloud geocoding also requires subscription fee, but it has a free trial version.\n",
    "* Geocoding not 100% accurate. --> First pass through Geocoding API, then second pass Places API"
   ]
  },
  {
   "cell_type": "code",
   "execution_count": 11,
   "metadata": {},
   "outputs": [],
   "source": [
    "# Replacing ampersand with \"and\" as ampersand is read as a parameter separator in the url\n",
    "station_names = pd.Series(df[\"to_station_name\"].unique())\n",
    "\n",
    "station_names_f = station_names.replace({\"&\": \"and\", \" \": \"%20\"}, regex=True)"
   ]
  },
  {
   "cell_type": "markdown",
   "metadata": {},
   "source": [
    "## Geocoding inaccuracies issue\n",
    "* The inaccurate geocode API returns coordinates of Chicago city center instead of bike station.\n",
    "* The inaccuracy comes from geocoding the bike station name instead of the actual street name.\n",
    "* Bike station names don't reflect the actual street name. \n",
    "    * For example, bike station name `Canal St & Jackson Blvd` is located on `South Canal St & West Jackson Blvd`.\n",
    "    * But the geocoding API may not be able to find the correct street when searching for `Canal St & Jackson Blvd`, so it returns an `APPROXIMATE` location, which points to Chicago city center, which isn't correct.\n",
    "* Both geocode and place API return similar results, with multiple city center entries.\n",
    "* Need to supply NSEW directionality to make the geocoding more accurate, which essentially is the street name instead of the station name.\n",
    "* But NSEW not provided in the dataset, and cannot be easily inferred. \n",
    "\n",
    "## Approach\n",
    "1. For coordinates with `GEOMETRIC_CENTER`, leave them out as station name and station location are mostly the same. \n",
    "2. Compile list of bike stations with `APPROXIMATE` as location accuracy.\n",
    "3. Pass it through the Places API after Geocoding API.\n",
    "4. Manually sort out the remaining stations with duplicated or missing coordinates."
   ]
  },
  {
   "cell_type": "code",
   "execution_count": 12,
   "metadata": {},
   "outputs": [],
   "source": [
    "# First pass: Geocode API obtain coordinates loop\n",
    "with open(\"./geocode_apikey.txt\") as k:\n",
    "    geocode_key = k.readlines()[0]\n",
    "    \n",
    "headers = {\"AccountKey\": geocode_key,\n",
    "           \"accept\": \"application/json\"}\n",
    "\n",
    "uri = \"https://maps.googleapis.com/maps/api/geocode/json?address=\"\n",
    "\n",
    "lat_lng = []\n",
    "results_size = []\n",
    "location_types = []\n",
    "\n",
    "for station in station_names_f:\n",
    "    \n",
    "    url = uri + \"chicago%20\" +  station + \"&key=\" + geocode_key\n",
    "    \n",
    "    method = \"GET\"\n",
    "    body = \"\"\n",
    "    h = http.Http()\n",
    "    \n",
    "    target = urlparse(url)\n",
    "    \n",
    "    response, content = h.request(\n",
    "        target.geturl(),\n",
    "        method,\n",
    "        body,\n",
    "        headers\n",
    "    )\n",
    "    \n",
    "    if json.loads(content)[\"status\"] == \"OK\":\n",
    "        \n",
    "        # Appending length of json content\n",
    "        results_size.append(len(json.loads(content)[\"results\"][0]))\n",
    "        \n",
    "        # Appending (lat, lng) into list\n",
    "        lat = json.loads(content)[\"results\"][0][\"geometry\"][\"location\"][\"lat\"]\n",
    "        lng = json.loads(content)[\"results\"][0][\"geometry\"][\"location\"][\"lng\"]\n",
    "        \n",
    "        lat_lng.append((lat, lng))\n",
    "        \n",
    "        # Appending approx or geometric center etc into list\n",
    "        location_type = json.loads(content)[\"results\"][0][\"geometry\"][\"location_type\"]\n",
    "        location_types.append(location_type)\n",
    "    \n",
    "    else:\n",
    "    \n",
    "        results_size.append(np.nan)\n",
    "        lat_lng.append(np.nan)\n",
    "        location_types.append(\"Missing\")\n",
    "        \n",
    "geocode_df = pd.DataFrame({\"station_names\": station_names,\n",
    "                           \"station_names_f\": station_names_f,\n",
    "                           \"results_size\": results_size,\n",
    "                           \"lat_lng\": lat_lng,\n",
    "                           \"location_type\": location_types})"
   ]
  },
  {
   "cell_type": "code",
   "execution_count": 13,
   "metadata": {},
   "outputs": [],
   "source": [
    "# Filter out geocodes that are inaccurate based on location type\n",
    "approx_df = geocode_df[geocode_df[\"location_type\"].isin([\"APPROXIMATE\", \"Missing\"])]"
   ]
  },
  {
   "cell_type": "code",
   "execution_count": 14,
   "metadata": {},
   "outputs": [],
   "source": [
    "# Second pass: Map API Place Search\n",
    "with open(\"./gmap_apikey.txt\") as k:\n",
    "    gmap_key = k.readlines()[0]\n",
    "    \n",
    "headers = {\"AccountKey\": gmap_key,\n",
    "           \"accept\": \"application/json\"}\n",
    "\n",
    "uri = \"https://maps.googleapis.com/maps/api/place/textsearch/json?query=\"\n",
    "\n",
    "lat_lng = []\n",
    "results_size = []\n",
    "location_types = []\n",
    "st_names = []\n",
    "\n",
    "for station in approx_df[\"station_names_f\"]:\n",
    "    \n",
    "    url = uri + \"chicago%20\" +  station + \"&key=\" + gmap_key\n",
    "    \n",
    "    method = \"GET\"\n",
    "    body = \"\"\n",
    "    h = http.Http()\n",
    "    \n",
    "    target = urlparse(url)\n",
    "    \n",
    "    response, content = h.request(\n",
    "        target.geturl(),\n",
    "        method,\n",
    "        body,\n",
    "        headers\n",
    "    )\n",
    "    \n",
    "    if json.loads(content)[\"status\"] == \"OK\":\n",
    "        \n",
    "        # Appending length of json content\n",
    "        results_size.append(len(json.loads(content)[\"results\"][0]))\n",
    "        \n",
    "        # Appending (lat, lng) into list\n",
    "        lat = json.loads(content)[\"results\"][0][\"geometry\"][\"location\"][\"lat\"]\n",
    "        lng = json.loads(content)[\"results\"][0][\"geometry\"][\"location\"][\"lng\"]\n",
    "        \n",
    "        lat_lng.append((lat, lng))\n",
    "        \n",
    "        # Appending approx or geometric center etc into list\n",
    "        location_type = json.loads(content)[\"results\"][0][\"types\"]\n",
    "        location_types.append(location_type)\n",
    "        \n",
    "        # Appending actual name of street\n",
    "        st_names.append(json.loads(content)[\"results\"][0][\"name\"])\n",
    "    \n",
    "    else:\n",
    "    \n",
    "        results_size.append(np.nan)\n",
    "        lat_lng.append(np.nan)\n",
    "        location_types.append(\"Missing\")\n",
    "        st_names.append(\"Missing\")\n",
    "        \n",
    "gmap_df = pd.DataFrame({\"station_names\": approx_df[\"station_names\"],\n",
    "                        \"station_names_f\": approx_df[\"station_names_f\"],\n",
    "                        \"results_size\": results_size,\n",
    "                        \"lat_lng\": lat_lng,\n",
    "                        \"location_type\": location_types,\n",
    "                        \"st_names\": st_names})"
   ]
  },
  {
   "cell_type": "code",
   "execution_count": 15,
   "metadata": {},
   "outputs": [],
   "source": [
    "# Filter out the geocode coordinates which are not APPROXIMATE & Missing\n",
    "geocode_df2 = geocode_df[~geocode_df[\"location_type\"].isin([\"APPROXIMATE\", \"Missing\"])]\n",
    "\n",
    "# Remove st_names variable from gmap_df\n",
    "gmap_df = gmap_df.drop(\"st_names\", axis=1)\n",
    "\n",
    "# Row bind both data frames together\n",
    "geocode_df3 = pd.concat([geocode_df2, gmap_df], axis=0).reset_index().drop(\"index\", axis=1)"
   ]
  },
  {
   "cell_type": "code",
   "execution_count": 17,
   "metadata": {},
   "outputs": [
    {
     "data": {
      "text/html": [
       "<div>\n",
       "<style scoped>\n",
       "    .dataframe tbody tr th:only-of-type {\n",
       "        vertical-align: middle;\n",
       "    }\n",
       "\n",
       "    .dataframe tbody tr th {\n",
       "        vertical-align: top;\n",
       "    }\n",
       "\n",
       "    .dataframe thead th {\n",
       "        text-align: right;\n",
       "    }\n",
       "</style>\n",
       "<table border=\"1\" class=\"dataframe\">\n",
       "  <thead>\n",
       "    <tr style=\"text-align: right;\">\n",
       "      <th></th>\n",
       "      <th>station_names</th>\n",
       "      <th>station_names_f</th>\n",
       "      <th>results_size</th>\n",
       "      <th>lat_lng</th>\n",
       "      <th>location_type</th>\n",
       "    </tr>\n",
       "  </thead>\n",
       "  <tbody>\n",
       "    <tr>\n",
       "      <th>0</th>\n",
       "      <td>Kimball Ave &amp; Belmont Ave</td>\n",
       "      <td>Kimball%20Ave%20and%20Belmont%20Ave</td>\n",
       "      <td>5.0</td>\n",
       "      <td>(41.9392819, -87.7124876)</td>\n",
       "      <td>GEOMETRIC_CENTER</td>\n",
       "    </tr>\n",
       "    <tr>\n",
       "      <th>1</th>\n",
       "      <td>Pine Grove Ave &amp; Waveland Ave</td>\n",
       "      <td>Pine%20Grove%20Ave%20and%20Waveland%20Ave</td>\n",
       "      <td>5.0</td>\n",
       "      <td>(41.9497223, -87.64665079999999)</td>\n",
       "      <td>GEOMETRIC_CENTER</td>\n",
       "    </tr>\n",
       "    <tr>\n",
       "      <th>2</th>\n",
       "      <td>Maplewood Ave &amp; Peterson Ave</td>\n",
       "      <td>Maplewood%20Ave%20and%20Peterson%20Ave</td>\n",
       "      <td>5.0</td>\n",
       "      <td>(41.9904253, -87.6933049)</td>\n",
       "      <td>GEOMETRIC_CENTER</td>\n",
       "    </tr>\n",
       "    <tr>\n",
       "      <th>3</th>\n",
       "      <td>Broadway &amp; Argyle St</td>\n",
       "      <td>Broadway%20and%20Argyle%20St</td>\n",
       "      <td>5.0</td>\n",
       "      <td>(41.9732378, -87.6597826)</td>\n",
       "      <td>GEOMETRIC_CENTER</td>\n",
       "    </tr>\n",
       "    <tr>\n",
       "      <th>4</th>\n",
       "      <td>Clark St &amp; Leland Ave</td>\n",
       "      <td>Clark%20St%20and%20Leland%20Ave</td>\n",
       "      <td>5.0</td>\n",
       "      <td>(41.9670697, -87.6671155)</td>\n",
       "      <td>GEOMETRIC_CENTER</td>\n",
       "    </tr>\n",
       "  </tbody>\n",
       "</table>\n",
       "</div>"
      ],
      "text/plain": [
       "                   station_names                            station_names_f  \\\n",
       "0      Kimball Ave & Belmont Ave        Kimball%20Ave%20and%20Belmont%20Ave   \n",
       "1  Pine Grove Ave & Waveland Ave  Pine%20Grove%20Ave%20and%20Waveland%20Ave   \n",
       "2   Maplewood Ave & Peterson Ave     Maplewood%20Ave%20and%20Peterson%20Ave   \n",
       "3           Broadway & Argyle St               Broadway%20and%20Argyle%20St   \n",
       "4          Clark St & Leland Ave            Clark%20St%20and%20Leland%20Ave   \n",
       "\n",
       "   results_size                           lat_lng     location_type  \n",
       "0           5.0         (41.9392819, -87.7124876)  GEOMETRIC_CENTER  \n",
       "1           5.0  (41.9497223, -87.64665079999999)  GEOMETRIC_CENTER  \n",
       "2           5.0         (41.9904253, -87.6933049)  GEOMETRIC_CENTER  \n",
       "3           5.0         (41.9732378, -87.6597826)  GEOMETRIC_CENTER  \n",
       "4           5.0         (41.9670697, -87.6671155)  GEOMETRIC_CENTER  "
      ]
     },
     "execution_count": 17,
     "metadata": {},
     "output_type": "execute_result"
    }
   ],
   "source": [
    "geocode_df3.head()"
   ]
  },
  {
   "cell_type": "code",
   "execution_count": 18,
   "metadata": {},
   "outputs": [],
   "source": [
    "# Splits the tuple containing lat and lng into two new columns lat and lng\n",
    "lat_lng_df = pd.DataFrame(geocode_df3[\"lat_lng\"].tolist(), index=geocode_df3.index)\n",
    "geocode_df3[[\"lat\", \"lng\"]] = lat_lng_df"
   ]
  },
  {
   "cell_type": "code",
   "execution_count": 21,
   "metadata": {},
   "outputs": [
    {
     "data": {
      "text/html": [
       "<div>\n",
       "<style scoped>\n",
       "    .dataframe tbody tr th:only-of-type {\n",
       "        vertical-align: middle;\n",
       "    }\n",
       "\n",
       "    .dataframe tbody tr th {\n",
       "        vertical-align: top;\n",
       "    }\n",
       "\n",
       "    .dataframe thead th {\n",
       "        text-align: right;\n",
       "    }\n",
       "</style>\n",
       "<table border=\"1\" class=\"dataframe\">\n",
       "  <thead>\n",
       "    <tr style=\"text-align: right;\">\n",
       "      <th></th>\n",
       "      <th>station_names</th>\n",
       "      <th>station_names_f</th>\n",
       "      <th>results_size</th>\n",
       "      <th>lat_lng</th>\n",
       "      <th>location_type</th>\n",
       "      <th>lat</th>\n",
       "      <th>lng</th>\n",
       "    </tr>\n",
       "  </thead>\n",
       "  <tbody>\n",
       "    <tr>\n",
       "      <th>0</th>\n",
       "      <td>Kimball Ave &amp; Belmont Ave</td>\n",
       "      <td>Kimball%20Ave%20and%20Belmont%20Ave</td>\n",
       "      <td>5.0</td>\n",
       "      <td>(41.9392819, -87.7124876)</td>\n",
       "      <td>GEOMETRIC_CENTER</td>\n",
       "      <td>41.939282</td>\n",
       "      <td>-87.712488</td>\n",
       "    </tr>\n",
       "    <tr>\n",
       "      <th>1</th>\n",
       "      <td>Pine Grove Ave &amp; Waveland Ave</td>\n",
       "      <td>Pine%20Grove%20Ave%20and%20Waveland%20Ave</td>\n",
       "      <td>5.0</td>\n",
       "      <td>(41.9497223, -87.64665079999999)</td>\n",
       "      <td>GEOMETRIC_CENTER</td>\n",
       "      <td>41.949722</td>\n",
       "      <td>-87.646651</td>\n",
       "    </tr>\n",
       "    <tr>\n",
       "      <th>2</th>\n",
       "      <td>Maplewood Ave &amp; Peterson Ave</td>\n",
       "      <td>Maplewood%20Ave%20and%20Peterson%20Ave</td>\n",
       "      <td>5.0</td>\n",
       "      <td>(41.9904253, -87.6933049)</td>\n",
       "      <td>GEOMETRIC_CENTER</td>\n",
       "      <td>41.990425</td>\n",
       "      <td>-87.693305</td>\n",
       "    </tr>\n",
       "    <tr>\n",
       "      <th>3</th>\n",
       "      <td>Broadway &amp; Argyle St</td>\n",
       "      <td>Broadway%20and%20Argyle%20St</td>\n",
       "      <td>5.0</td>\n",
       "      <td>(41.9732378, -87.6597826)</td>\n",
       "      <td>GEOMETRIC_CENTER</td>\n",
       "      <td>41.973238</td>\n",
       "      <td>-87.659783</td>\n",
       "    </tr>\n",
       "    <tr>\n",
       "      <th>4</th>\n",
       "      <td>Clark St &amp; Leland Ave</td>\n",
       "      <td>Clark%20St%20and%20Leland%20Ave</td>\n",
       "      <td>5.0</td>\n",
       "      <td>(41.9670697, -87.6671155)</td>\n",
       "      <td>GEOMETRIC_CENTER</td>\n",
       "      <td>41.967070</td>\n",
       "      <td>-87.667115</td>\n",
       "    </tr>\n",
       "  </tbody>\n",
       "</table>\n",
       "</div>"
      ],
      "text/plain": [
       "                   station_names                            station_names_f  \\\n",
       "0      Kimball Ave & Belmont Ave        Kimball%20Ave%20and%20Belmont%20Ave   \n",
       "1  Pine Grove Ave & Waveland Ave  Pine%20Grove%20Ave%20and%20Waveland%20Ave   \n",
       "2   Maplewood Ave & Peterson Ave     Maplewood%20Ave%20and%20Peterson%20Ave   \n",
       "3           Broadway & Argyle St               Broadway%20and%20Argyle%20St   \n",
       "4          Clark St & Leland Ave            Clark%20St%20and%20Leland%20Ave   \n",
       "\n",
       "   results_size                           lat_lng     location_type  \\\n",
       "0           5.0         (41.9392819, -87.7124876)  GEOMETRIC_CENTER   \n",
       "1           5.0  (41.9497223, -87.64665079999999)  GEOMETRIC_CENTER   \n",
       "2           5.0         (41.9904253, -87.6933049)  GEOMETRIC_CENTER   \n",
       "3           5.0         (41.9732378, -87.6597826)  GEOMETRIC_CENTER   \n",
       "4           5.0         (41.9670697, -87.6671155)  GEOMETRIC_CENTER   \n",
       "\n",
       "         lat        lng  \n",
       "0  41.939282 -87.712488  \n",
       "1  41.949722 -87.646651  \n",
       "2  41.990425 -87.693305  \n",
       "3  41.973238 -87.659783  \n",
       "4  41.967070 -87.667115  "
      ]
     },
     "execution_count": 21,
     "metadata": {},
     "output_type": "execute_result"
    }
   ],
   "source": [
    "geocode_df3.head()"
   ]
  },
  {
   "cell_type": "code",
   "execution_count": 22,
   "metadata": {},
   "outputs": [
    {
     "data": {
      "text/html": [
       "<div>\n",
       "<style scoped>\n",
       "    .dataframe tbody tr th:only-of-type {\n",
       "        vertical-align: middle;\n",
       "    }\n",
       "\n",
       "    .dataframe tbody tr th {\n",
       "        vertical-align: top;\n",
       "    }\n",
       "\n",
       "    .dataframe thead th {\n",
       "        text-align: right;\n",
       "    }\n",
       "</style>\n",
       "<table border=\"1\" class=\"dataframe\">\n",
       "  <thead>\n",
       "    <tr style=\"text-align: right;\">\n",
       "      <th></th>\n",
       "      <th>station_names</th>\n",
       "      <th>station_names_f</th>\n",
       "      <th>results_size</th>\n",
       "      <th>lat_lng</th>\n",
       "      <th>location_type</th>\n",
       "      <th>lat</th>\n",
       "      <th>lng</th>\n",
       "    </tr>\n",
       "  </thead>\n",
       "  <tbody>\n",
       "    <tr>\n",
       "      <th>414</th>\n",
       "      <td>Shields Ave &amp; 43rd St</td>\n",
       "      <td>Shields%20Ave%20and%2043rd%20St</td>\n",
       "      <td>5.0</td>\n",
       "      <td>(41.8163703, -87.6347012)</td>\n",
       "      <td>GEOMETRIC_CENTER</td>\n",
       "      <td>41.816370</td>\n",
       "      <td>-87.634701</td>\n",
       "    </tr>\n",
       "    <tr>\n",
       "      <th>470</th>\n",
       "      <td>Central Park Ave &amp; 24th St</td>\n",
       "      <td>Central%20Park%20Ave%20and%2024th%20St</td>\n",
       "      <td>6.0</td>\n",
       "      <td>(41.8896258, -87.7162753)</td>\n",
       "      <td>GEOMETRIC_CENTER</td>\n",
       "      <td>41.889626</td>\n",
       "      <td>-87.716275</td>\n",
       "    </tr>\n",
       "    <tr>\n",
       "      <th>537</th>\n",
       "      <td>Kedzie Ave &amp; 24th St</td>\n",
       "      <td>Kedzie%20Ave%20and%2024th%20St</td>\n",
       "      <td>6.0</td>\n",
       "      <td>(41.663576, -87.6998965)</td>\n",
       "      <td>GEOMETRIC_CENTER</td>\n",
       "      <td>41.663576</td>\n",
       "      <td>-87.699896</td>\n",
       "    </tr>\n",
       "  </tbody>\n",
       "</table>\n",
       "</div>"
      ],
      "text/plain": [
       "                  station_names                         station_names_f  \\\n",
       "414       Shields Ave & 43rd St         Shields%20Ave%20and%2043rd%20St   \n",
       "470  Central Park Ave & 24th St  Central%20Park%20Ave%20and%2024th%20St   \n",
       "537        Kedzie Ave & 24th St          Kedzie%20Ave%20and%2024th%20St   \n",
       "\n",
       "     results_size                    lat_lng     location_type        lat  \\\n",
       "414           5.0  (41.8163703, -87.6347012)  GEOMETRIC_CENTER  41.816370   \n",
       "470           6.0  (41.8896258, -87.7162753)  GEOMETRIC_CENTER  41.889626   \n",
       "537           6.0   (41.663576, -87.6998965)  GEOMETRIC_CENTER  41.663576   \n",
       "\n",
       "           lng  \n",
       "414 -87.634701  \n",
       "470 -87.716275  \n",
       "537 -87.699896  "
      ]
     },
     "execution_count": 22,
     "metadata": {},
     "output_type": "execute_result"
    }
   ],
   "source": [
    "# Check for duplicated coordinates\n",
    "geocode_df3[geocode_df3.duplicated(\"lat_lng\")]"
   ]
  },
  {
   "cell_type": "markdown",
   "metadata": {},
   "source": [
    "#### Quick note\n",
    "* The geocoding API returns slightly different results each run (on different days), so the duplicated `lat_lng` features will carry different number of observations.\n",
    "* When manually replacing the `lat` and `lng` features, the index of the geocodes data frame (below) will have to change."
   ]
  },
  {
   "cell_type": "code",
   "execution_count": 106,
   "metadata": {},
   "outputs": [],
   "source": [
    "# Overwrite duplicated coordinates in geocode_df3 with coordinates obtained directly from Google Map\n",
    "# Double checked coordinates with bike stations from divvy website\n",
    "\n",
    "# Calumet Ave & 33rd St\n",
    "geocode_df3.loc[285, \"lat\"] = 41.834756\n",
    "geocode_df3.loc[285, \"lng\"] = -87.618007\n",
    "\n",
    "# Larkfront Trail & Wilson Ave\n",
    "geocode_df3.loc[152, \"lat\"] = 41.965785 \n",
    "geocode_df3.loc[152, \"lng\"] = -87.646287\n",
    "\n",
    "# Lakefront Trail & Bryn Mawr Ave\n",
    "geocode_df3.loc[296, \"lat\"] = 41.983961\n",
    "geocode_df3.loc[296, \"lng\"] = -87.652315\n",
    "\n",
    "# Western Ave & 21st St\n",
    "geocode_df3.loc[6, \"lat\"] = 41.854007\n",
    "geocode_df3.loc[6, \"lng\"] = -87.685725\n",
    "\n",
    "# Western Ave & 24st St\n",
    "geocode_df3.loc[386, \"lat\"] = 41.848410\n",
    "geocode_df3.loc[386, \"lng\"] = -87.685513\n",
    "\n",
    "# Shields Ave & 31st St\n",
    "geocode_df3.loc[288, \"lat\"] = 41.838186\n",
    "geocode_df3.loc[288, \"lng\"] = -87.635320\n",
    "\n",
    "# Central Park Ave & North Ave\n",
    "geocode_df3.loc[57, \"lat\"] = 41.910081\n",
    "geocode_df3.loc[57, \"lng\"] = -87.716783\n",
    "\n",
    "# Central Park Ave & 24th St\n",
    "geocode_df3.loc[472, \"lat\"] = 41.848039\n",
    "geocode_df3.loc[472, \"lng\"] = -87.714869\n",
    "\n",
    "# Kedzie Ave & 21st St\n",
    "geocode_df3.loc[373, \"lat\"] = 41.853588 \n",
    "geocode_df3.loc[373, \"lng\"] = -87.705286\n",
    "\n",
    "# Kedzie Ave & 24th St\n",
    "geocode_df3.loc[538, \"lat\"] = 41.848150, \n",
    "geocode_df3.loc[538, \"lng\"] = -87.705205\n",
    "\n",
    "# Emerald Ave & 31st St\n",
    "geocode_df3.loc[592, \"lat\"] = 41.838059\n",
    "geocode_df3.loc[592, \"lng\"] = -87.645053\n",
    "\n",
    "# Emerald Ave & 28th St\n",
    "geocode_df3.loc[600, \"lat\"] = 41.843522\n",
    "geocode_df3.loc[600, \"lng\"] = -87.645183\n",
    "\n",
    "# Rush St & Cedar St\n",
    "geocode_df3.loc[133, \"lat\"] = 41.902377 \n",
    "geocode_df3.loc[133, \"lng\"] = -87.627698\n",
    "\n",
    "# Shore Drive coordinates\n",
    "geocode_df3.loc[580, \"lat\"] = 41.795253\n",
    "geocode_df3.loc[580, \"lng\"] = -87.580741\n",
    "\n",
    "# Clark St & 9th St (AMLI)\n",
    "geocode_df3.loc[403, \"lat\"] = 41.870761\n",
    "geocode_df3.loc[403, \"lng\"] = -87.631202\n",
    "\n",
    "# MLK Jr Dr & 63rd St\n",
    "geocode_df3.loc[525, \"lat\"] = 41.780295\n",
    "geocode_df3.loc[525, \"lng\"] = -87.615598"
   ]
  },
  {
   "cell_type": "code",
   "execution_count": 111,
   "metadata": {},
   "outputs": [],
   "source": [
    "# Save the geocodes locally \n",
    "req_geocode_df3 = geocode_df3[[\"station_names\", \"lat\", \"lng\"]]\n",
    "\n",
    "if \"geocode.csv\" in os.listdir(dir_path):\n",
    "    pass\n",
    "else:\n",
    "    req_geocode_df3.to_csv(dir_path + \"geocode.csv\",\n",
    "                           index=False)"
   ]
  },
  {
   "cell_type": "code",
   "execution_count": 26,
   "metadata": {},
   "outputs": [],
   "source": [
    "# Merge the original df dataframe with geocode dataframe, by station_name variable\n",
    "# Merge it twice, once for from_station_name, and once for to_station_name\n",
    "\n",
    "# Read written geocode.csv\n",
    "req_geocode_df3 = pd.read_csv(dir_path + \"geocode.csv\")\n",
    "\n",
    "# Merging by from_station_name\n",
    "merged_df = pd.merge(left=df, right=req_geocode_df3,\n",
    "                     how=\"left\",\n",
    "                     left_on=\"from_station_name\",\n",
    "                     right_on=\"station_names\")\n",
    "merged_df.rename(columns={\"lat\": \"from_lat\",\n",
    "                          \"lng\": \"from_lng\"},\n",
    "                 inplace=True)\n",
    "merged_df.drop(\"station_names\", axis=1, inplace=True)\n",
    "\n",
    "# Merging by to_station_name\n",
    "merged_df = pd.merge(left=merged_df, right=req_geocode_df3,\n",
    "                     how=\"left\",\n",
    "                     left_on=\"to_station_name\",\n",
    "                     right_on=\"station_names\")\n",
    "merged_df.rename(columns={\"lat\": \"to_lat\",\n",
    "                          \"lng\": \"to_lng\"},\n",
    "                 inplace=True)\n",
    "merged_df.drop(\"station_names\", axis=1, inplace=True)"
   ]
  },
  {
   "cell_type": "code",
   "execution_count": 32,
   "metadata": {},
   "outputs": [
    {
     "data": {
      "application/vnd.plotly.v1+json": {
       "config": {
        "plotlyServerURL": "https://plot.ly"
       },
       "data": [
        {
         "hoverinfo": "text",
         "hovertext": [
          "Leavitt St & Chicago Ave",
          "Lake Park Ave & 56th St",
          "Hermitage Ave & Polk St",
          "Canal St & Monroe St",
          "Ashland Ave & Augusta Blvd",
          "Clarendon Ave & Gordon Ter",
          "Clark St & Elm St",
          "Lakeview Ave & Fullerton Pkwy",
          "Larrabee St & Menomonee St",
          "Aberdeen St & Monroe St",
          "Stetson Ave & South Water St",
          "Green St & Randolph St",
          "Orleans St & Hubbard St",
          "State St & Kinzie St",
          "State St & Van Buren St",
          "Wacker Dr & Washington St",
          "Wells St & Concord Ln",
          "Ogden Ave & Roosevelt Rd",
          "McClurg Ct & Erie St",
          "Streeter Dr & Grand Ave",
          "Larrabee St & Webster Ave",
          "Halsted St & Polk St",
          "Emerald Ave & 31st St",
          "Racine Ave & Washington Blvd",
          "Harper Ave & 59th St",
          "Ashland Ave & Augusta Blvd",
          "Cityfront Plaza Dr & Pioneer Ct",
          "Sangamon St & Washington Blvd",
          "Lincoln Ave & Addison St",
          "Millennium Park",
          "Sheffield Ave & Wellington Ave",
          "Sheffield Ave & Fullerton Ave",
          "Morgan St & Lake St",
          "St. Clair St & Erie St",
          "Larrabee St & Oak St",
          "LaSalle St & Washington St",
          "Orleans St & Merchandise Mart Plaza",
          "Streeter Dr & Grand Ave",
          "Orleans St & Merchandise Mart Plaza",
          "Indiana Ave & Roosevelt Rd",
          "McClurg Ct & Illinois St",
          "Wells St & Evergreen Ave",
          "Loomis St & Lexington St",
          "Larrabee St & Armitage Ave",
          "Michigan Ave & Ida B Wells Dr",
          "Damen Ave & Division St",
          "Dayton St & North Ave",
          "Clark St & Randolph St",
          "Kedzie Ave & Palmer Ct",
          "Columbus Dr & Randolph St",
          "Lakefront Trail & Bryn Mawr Ave",
          "Artesian Ave & Hubbard St",
          "Michigan Ave & Oak St",
          "Desplaines St & Randolph St",
          "Loomis St & Lexington St",
          "Dearborn St & Erie St",
          "Wells St & Polk St",
          "Lake Shore Dr & North Blvd",
          "Leavitt St & Armitage Ave",
          "Columbus Dr & Randolph St",
          "Southport Ave & Clybourn Ave",
          "Franklin St & Chicago Ave",
          "Lakefront Trail & Bryn Mawr Ave",
          "Bissell St & Armitage Ave",
          "Damen Ave & Leland Ave",
          "Dearborn St & Erie St",
          "Jefferson St & Monroe St",
          "Wells St & Elm St",
          "Western Ave & Lunt Ave",
          "Clark St & Armitage Ave",
          "Streeter Dr & Grand Ave",
          "Ashland Ave & 13th St",
          "Halsted St & Clybourn Ave",
          "Damen Ave & Pierce Ave",
          "Morgan St & Polk St",
          "Eastlake Ter & Rogers Ave",
          "Ravenswood Ave & Lawrence Ave",
          "May St & Taylor St",
          "Damen Ave & Wellington Ave",
          "Dearborn St & Monroe St",
          "LaSalle St & Jackson Blvd",
          "Harper Ave & 59th St",
          "Southport Ave & Wellington Ave",
          "Dearborn St & Van Buren St",
          "Clark St & Wrightwood Ave",
          "Clinton St & Madison St",
          "Wabash Ave & Adams St",
          "Damen Ave & Leland Ave",
          "900 W Harrison St",
          "Wacker Dr & Washington St",
          "Clark St & Armitage Ave",
          "Woodlawn Ave & Lake Park Ave",
          "Aberdeen St & Jackson Blvd",
          "Canal St & Adams St",
          "Peoria St & Jackson Blvd",
          "Wabash Ave & 16th St",
          "Aberdeen St & Monroe St",
          "Pine Grove Ave & Irving Park Rd",
          "Chicago Ave & Sheridan Rd",
          "Clinton St & Washington Blvd",
          "Broadway & Barry Ave",
          "Shields Ave & 31st St",
          "Sedgwick St & Huron St",
          "Clark St & Randolph St",
          "Indiana Ave & Roosevelt Rd",
          "Wells St & Concord Ln",
          "Franklin St & Jackson Blvd",
          "Clark St & Elm St",
          "Canal St & Adams St",
          "Kingsbury St & Kinzie St",
          "Michigan Ave & 18th St",
          "Kingsbury St & Erie St",
          "Dusable Harbor",
          "State St & Randolph St",
          "Kimbark Ave & 53rd St",
          "Adler Planetarium",
          "Ashland Ave & Lake St",
          "Kosciuszko Park",
          "Damen Ave & Pierce Ave",
          "Ashland Ave & Wrightwood Ave",
          "Morgan St & Lake St",
          "Dearborn St & Adams St",
          "Lincoln Ave & Roscoe St",
          "Pine Grove Ave & Irving Park Rd",
          "Aberdeen St & Randolph St",
          "Halsted St & Roscoe St",
          "Desplaines St & Jackson Blvd",
          "Streeter Dr & Grand Ave",
          "Wabash Ave & 9th St",
          "California Ave & Byron St",
          "LaSalle Dr & Huron St",
          "Wabash Ave & Wacker Pl",
          "Green St & Randolph St",
          "Larrabee St & Division St",
          "LaSalle St & Jackson Blvd",
          "Clark St & Ida B Wells Dr",
          "Columbus Dr & Randolph St",
          "Clark St & Ida B Wells Dr",
          "Dearborn St & Adams St",
          "Calumet Ave & 18th St",
          "Canal St & Adams St",
          "Lake Shore Dr & Diversey Pkwy",
          "Lincoln Ave & Sunnyside Ave",
          "Wilton Ave & Belmont Ave",
          "Damen Ave & Cortland St",
          "Daley Center Plaza",
          "Halsted St & Dickens Ave",
          "Lake Shore Dr & Monroe St",
          "Campbell Ave & Montrose Ave",
          "Canal St & Adams St",
          "Halsted St & Maxwell St",
          "LaSalle St & Jackson Blvd",
          "Lake Shore Dr & Monroe St",
          "Sheridan Rd & Loyola Ave",
          "Michigan Ave & Oak St",
          "Rush St & Superior St",
          "Wells St & Concord Ln",
          "Lake Shore Dr & Monroe St",
          "State St & 33rd St",
          "Wood St & Taylor St",
          "Michigan Ave & Washington St",
          "Kingsbury St & Erie St",
          "Green St & Randolph St",
          "Broadway & Waveland Ave",
          "Paulina St & Flournoy St",
          "Lakefront Trail & Bryn Mawr Ave",
          "Green St & Madison St",
          "Lincoln Ave & Belmont Ave",
          "Racine Ave & Belmont Ave",
          "California Ave & Milwaukee Ave",
          "Clinton St & Lake St",
          "Larrabee St & Webster Ave",
          "Carpenter St & Huron St",
          "LaSalle St & Adams St",
          "Southport Ave & Irving Park Rd",
          "Indiana Ave & Roosevelt Rd",
          "Clark St & Elm St",
          "Wolcott Ave & Polk St",
          "Southport Ave & Waveland Ave",
          "Cannon Dr & Fullerton Ave",
          "Millennium Park",
          "Aberdeen St & Monroe St",
          "Kingsbury St & Kinzie St",
          "Shedd Aquarium",
          "Wabash Ave & Cermak Rd",
          "Financial Pl & Ida B Wells Dr",
          "Wood St & Taylor St",
          "Sangamon St & Washington Blvd",
          "Ravenswood Ave & Lawrence Ave",
          "Stetson Ave & South Water St",
          "Stave St & Armitage Ave",
          "Bissell St & Armitage Ave",
          "Canal St & Madison St",
          "Peoria St & Jackson Blvd",
          "Clark St & 9th St (AMLI)",
          "Fairbanks St & Superior St",
          "Lake Park Ave & 56th St",
          "Streeter Dr & Grand Ave",
          "Western Ave & Winnebago Ave",
          "Wacker Dr & Washington St",
          "Milwaukee Ave & Wabansia Ave",
          "Pine Grove Ave & Waveland Ave",
          "Clark St & Lincoln Ave",
          "Sheffield Ave & Webster Ave",
          "Clark St & Randolph St",
          "Clark St & Lincoln Ave",
          "Clark St & Columbia Ave",
          "Lake Shore Dr & North Blvd",
          "Lake Shore Dr & Diversey Pkwy",
          "Sheffield Ave & Kingsbury St",
          "Canal St & Adams St",
          "Kingsbury St & Erie St",
          "Wabash Ave & Cermak Rd",
          "Theater on the Lake",
          "Damen Ave & Cortland St",
          "Wacker Dr & Washington St",
          "State St & 35th St",
          "Peoria St & Jackson Blvd",
          "Clark St & Lunt Ave",
          "Spaulding Ave & Armitage Ave",
          "Ashland Ave & Augusta Blvd",
          "Orleans St & Merchandise Mart Plaza",
          "Honore St & Division St",
          "State St & Randolph St",
          "Buckingham Fountain",
          "State St & Van Buren St",
          "Pine Grove Ave & Waveland Ave",
          "Desplaines St & Randolph St",
          "Canal St & Adams St",
          "Clark St & Drummond Pl",
          "Ada St & Washington Blvd",
          "Wabash Ave & 16th St",
          "Damen Ave & Cortland St",
          "Peoria St & Jackson Blvd",
          "Canal St & Madison St",
          "Lincoln Ave & Diversey Pkwy",
          "Clinton St & Madison St",
          "Green St & Randolph St",
          "Central Park Ave & Bloomingdale Ave",
          "Daley Center Plaza",
          "Delano Ct & Roosevelt Rd",
          "Dusable Harbor",
          "Clinton St & Madison St",
          "McClurg Ct & Illinois St",
          "St. Clair St & Erie St",
          "Racine Ave & Belmont Ave",
          "Desplaines St & Kinzie St",
          "Ada St & Washington Blvd",
          "Wabash Ave & Roosevelt Rd",
          "Michigan Ave & Lake St",
          "Ashland Ave & 21st St",
          "Orleans St & Merchandise Mart Plaza",
          "Lake Shore Dr & Monroe St",
          "Halsted St & Clybourn Ave",
          "Halsted St & North Branch St",
          "Clinton St & Madison St",
          "Cornell Ave & Hyde Park Blvd",
          "Clark St & Drummond Pl",
          "Canal St & Adams St",
          "Rush St & Hubbard St",
          "Desplaines St & Kinzie St",
          "Franklin St & Jackson Blvd",
          "Canal St & Harrison St",
          "Broadway & Barry Ave",
          "Clinton St & Madison St",
          "Stetson Ave & South Water St",
          "Columbus Dr & Randolph St",
          "Orleans St & Merchandise Mart Plaza",
          "Noble St & Milwaukee Ave",
          "Larrabee St & Kingsbury St",
          "Clinton St & Jackson Blvd",
          "Columbus Dr & Randolph St",
          "Franklin St & Lake St",
          "Clark St & Randolph St",
          "Talman Ave & Addison St",
          "Damen Ave & Melrose Ave",
          "Adler Planetarium",
          "Sedgwick St & Schiller St",
          "Halsted St & Dickens Ave",
          "Shore Dr & 55th St",
          "Lakefront Trail & Wilson Ave",
          "Clarendon Ave & Junior Ter",
          "Canal St & Adams St",
          "Clark St & Lincoln Ave",
          "Ashland Ave & Division St",
          "Broadway & Waveland Ave",
          "Dearborn St & Monroe St",
          "Orleans St & Merchandise Mart Plaza",
          "Paulina St & Flournoy St",
          "Franklin St & Monroe St",
          "Daley Center Plaza",
          "Southport Ave & Waveland Ave",
          "Desplaines St & Kinzie St",
          "Cityfront Plaza Dr & Pioneer Ct",
          "Wilton Ave & Belmont Ave",
          "Racine Ave & Congress Pkwy",
          "Franklin St & Jackson Blvd",
          "Kedzie Ave & Leland Ave",
          "McClurg Ct & Illinois St",
          "Wabash Ave & Roosevelt Rd"
         ],
         "lat": [
          41.8958269,
          41.79334559999999,
          41.8715613,
          41.8805723,
          41.8996937,
          41.9578338,
          41.9031276,
          41.92559199999999,
          41.9146167,
          41.8803847,
          41.8869227,
          41.8843878,
          41.8899587,
          41.8892607,
          41.8769274,
          41.8832047,
          41.9119361,
          41.86659340000001,
          41.8942542,
          41.8921227,
          41.9218953,
          41.8719792,
          41.838059,
          41.8829903,
          41.7878722,
          41.8996937,
          41.8902082,
          41.8830801,
          41.9469342,
          41.8825524,
          41.9362725,
          41.9253735,
          41.8855734,
          41.8941644,
          41.896482,
          41.8832167,
          41.8879949,
          41.8921227,
          41.8879949,
          41.86742,
          41.8910553,
          41.90669339999999,
          41.8725205,
          41.9182596,
          41.8757864,
          41.9031834,
          41.9326937,
          41.884483,
          41.9197721,
          41.8843623,
          41.983961,
          41.8895378,
          41.896461,
          41.8844228,
          41.8725205,
          41.8940561,
          41.8721463,
          41.8127955,
          41.91766399999999,
          41.8843623,
          41.9207614,
          41.8965874,
          41.983961,
          41.91811269999999,
          41.9669164,
          41.8940561,
          41.8805386,
          41.9028746,
          42.00864259999999,
          41.9184774,
          41.8921227,
          41.8649011,
          41.9100192,
          41.9093633,
          41.8723046,
          42.02087119999999,
          41.9688174,
          41.8694464,
          41.9359213,
          41.8807132,
          41.878148,
          41.7878722,
          41.93613879999999,
          41.8769068,
          41.9299911,
          41.8818529,
          41.8796051,
          41.9669164,
          41.8748099,
          41.8832047,
          41.9184774,
          41.8141543,
          41.87782869999999,
          41.8793044,
          41.8779064,
          41.8907328,
          41.8803847,
          41.9545789,
          42.0510775,
          41.8831913,
          41.93791,
          41.838186,
          41.8947412,
          41.884483,
          41.86742,
          41.9119361,
          41.8781139,
          41.9031276,
          41.8793044,
          41.8891037,
          41.857571,
          41.8939033,
          41.8844611,
          41.8844882,
          41.7994594,
          41.8664066,
          41.8853382,
          41.9309688,
          41.9093633,
          41.9287733,
          41.8855734,
          41.87942839999999,
          41.9432952,
          41.9545789,
          41.8843936,
          41.9436065,
          41.8779937,
          41.8921227,
          41.8705481,
          41.9521472,
          41.89481910000001,
          41.8868161,
          41.8843878,
          41.9037138,
          41.878148,
          41.8757001,
          41.8843623,
          41.8757001,
          41.87942839999999,
          41.524437,
          41.8793044,
          41.9328545,
          41.9631819,
          41.9399127,
          41.9162465,
          41.884328,
          41.9199845,
          41.88093629999999,
          41.9612991,
          41.8793044,
          41.8647835,
          41.878148,
          41.88093629999999,
          42.001529,
          41.896461,
          41.8957261,
          41.9119361,
          41.88093629999999,
          41.8346876,
          41.8691934,
          41.8834769,
          41.8939033,
          41.8843878,
          41.9491382,
          41.87286719999999,
          41.983961,
          41.8817668,
          41.9396849,
          41.9398392,
          41.9229233,
          41.8857044,
          41.9218953,
          41.8943962,
          41.879391,
          41.9543437,
          41.86742,
          41.9031276,
          41.8715213,
          41.948887,
          41.9257458,
          41.8825524,
          41.8803847,
          41.8891037,
          41.8675726,
          41.8527625,
          41.8755229,
          41.8691934,
          41.8830801,
          41.9688174,
          41.8869227,
          41.9175498,
          41.91811269999999,
          41.88186839999999,
          41.8779064,
          41.870761,
          41.895793,
          41.79334559999999,
          41.8921227,
          41.9157454,
          41.8832047,
          41.9122346,
          41.9497223,
          41.9156173,
          41.9217297,
          41.884483,
          41.9156173,
          42.0043902,
          41.8127955,
          41.9328545,
          41.909545,
          41.8793044,
          41.8939033,
          41.8527625,
          41.9270753,
          41.9162465,
          41.8832047,
          41.8310077,
          41.8779064,
          42.0089874,
          41.9173571,
          41.8996937,
          41.8879949,
          41.9032556,
          41.8844882,
          41.8757944,
          41.8769274,
          41.9497223,
          41.8844228,
          41.8793044,
          41.9307066,
          41.8829377,
          41.8907328,
          41.9162465,
          41.8779064,
          41.88186839999999,
          41.932556,
          41.8818529,
          41.8843878,
          41.9135413,
          41.884328,
          41.8674059,
          41.8844611,
          41.8818529,
          41.8910553,
          41.8941644,
          41.9398392,
          41.88905219999999,
          41.8829377,
          41.867404,
          41.8861479,
          41.8541557,
          41.8879949,
          41.88093629999999,
          41.9100192,
          41.8989801,
          41.8818529,
          41.8024752,
          41.9307066,
          41.8793044,
          41.8901029,
          41.88905219999999,
          41.8781139,
          41.8743943,
          41.93791,
          41.8818529,
          41.8869227,
          41.8843623,
          41.8879949,
          41.9008271,
          41.897778,
          41.8780273,
          41.8843623,
          41.885727,
          41.884483,
          41.9467049,
          41.9098573,
          41.8664066,
          41.9076231,
          41.9199845,
          41.795253,
          41.965785,
          41.9609382,
          41.8793044,
          41.9156173,
          41.9033392,
          41.9491382,
          41.8807132,
          41.8879949,
          41.87286719999999,
          41.8806221,
          41.884328,
          41.948887,
          41.88905219999999,
          41.8902082,
          41.9399127,
          41.8753421,
          41.8781139,
          41.9666436,
          41.8910553,
          41.867404
         ],
         "lon": [
          -87.6819536,
          -87.5879855,
          -87.6702864,
          -87.6396303,
          -87.6674464,
          -87.6498064,
          -87.6314113,
          -87.6391106,
          -87.64355019999999,
          -87.6546537,
          -87.6223263,
          -87.64860259999999,
          -87.6369843,
          -87.6279842,
          -87.6277101,
          -87.6367896,
          -87.6347443,
          -87.6838107,
          -87.61775779999999,
          -87.61004299999999,
          -87.6437907,
          -87.6471096,
          -87.645053,
          -87.6567348,
          -87.5891015,
          -87.6674464,
          -87.6219548,
          -87.6509156,
          -87.6737251,
          -87.62255139999999,
          -87.65399,
          -87.6536115,
          -87.6521467,
          -87.62274269999999,
          -87.64267129999999,
          -87.6323401,
          -87.636348,
          -87.61004299999999,
          -87.636348,
          -87.6226679,
          -87.61766659999999,
          -87.6345747,
          -87.66173479999999,
          -87.6436708,
          -87.6241938,
          -87.67726569999999,
          -87.6502247,
          -87.6309467,
          -87.70726239999999,
          -87.6207247,
          -87.652315,
          -87.68789609999999,
          -87.6240761,
          -87.6442117,
          -87.66173479999999,
          -87.6297182,
          -87.6335715,
          -87.5905131,
          -87.6825313,
          -87.6207247,
          -87.66319510000001,
          -87.6357019,
          -87.652315,
          -87.65214490000001,
          -87.6791362,
          -87.6297182,
          -87.6426266,
          -87.6344501,
          -87.69009609999999,
          -87.6361277,
          -87.61004299999999,
          -87.6664686,
          -87.6482467,
          -87.6774202,
          -87.62746899999999,
          -87.66507460000001,
          -87.67417540000001,
          -87.6552548,
          -87.6782341,
          -87.6293547,
          -87.63184,
          -87.5891015,
          -87.66367699999999,
          -87.62926809999999,
          -87.6434652,
          -87.6411826,
          -87.6258524,
          -87.6791362,
          -87.6497943,
          -87.6367896,
          -87.6361277,
          -87.5968682,
          -87.6545587,
          -87.63960689999999,
          -87.6495838,
          -87.62669,
          -87.6546537,
          -87.64793910000002,
          -87.6772838,
          -87.6412218,
          -87.6443362,
          -87.63532,
          -87.6385446,
          -87.6309467,
          -87.6226679,
          -87.6347443,
          -87.6352337,
          -87.6314113,
          -87.63960689999999,
          -87.6380879,
          -87.624039,
          -87.6414673,
          -87.61319879999999,
          -87.62789599999999,
          -87.59501829999999,
          -87.6067898,
          -87.66699899999999,
          -87.7250021,
          -87.6774202,
          -87.6683456,
          -87.6521467,
          -87.62934539999999,
          -87.6711873,
          -87.64793910000002,
          -87.65443259999999,
          -87.6493749,
          -87.64400189999999,
          -87.61004299999999,
          -87.6259025,
          -87.6981999,
          -87.6327554,
          -87.62632049999999,
          -87.64860259999999,
          -87.64323279999999,
          -87.63184,
          -87.63072009999999,
          -87.6207247,
          -87.63072009999999,
          -87.62934539999999,
          -87.5090848,
          -87.63960689999999,
          -87.63622149999999,
          -87.6849975,
          -87.6528903,
          -87.6775942,
          -87.6301134,
          -87.6485632,
          -87.617496,
          -87.6917983,
          -87.63960689999999,
          -87.64684539999999,
          -87.63184,
          -87.617496,
          -87.6607585,
          -87.6240761,
          -87.62548799999999,
          -87.6347443,
          -87.617496,
          -87.6266799,
          -87.6714095,
          -87.62463489999999,
          -87.6414673,
          -87.64860259999999,
          -87.6483582,
          -87.6690587,
          -87.652315,
          -87.6485345,
          -87.66863959999999,
          -87.6589607,
          -87.6973646,
          -87.64130469999999,
          -87.6437907,
          -87.65355369999999,
          -87.632308,
          -87.6642025,
          -87.6226679,
          -87.6314113,
          -87.6737598,
          -87.66407799999999,
          -87.6336113,
          -87.62255139999999,
          -87.6546537,
          -87.6380879,
          -87.614038,
          -87.6254879,
          -87.6330711,
          -87.6714095,
          -87.6509156,
          -87.67417540000001,
          -87.6223263,
          -87.69132669999999,
          -87.65214490000001,
          -87.63967819999999,
          -87.6495838,
          -87.631202,
          -87.6203553,
          -87.5879855,
          -87.61004299999999,
          -87.6872925,
          -87.6367896,
          -87.68033609999999,
          -87.64665079999999,
          -87.6343492,
          -87.653493,
          -87.6309467,
          -87.6343492,
          -87.672759,
          -87.5905131,
          -87.63622149999999,
          -87.652715,
          -87.63960689999999,
          -87.6414673,
          -87.6254879,
          -87.6306663,
          -87.6775942,
          -87.6367896,
          -87.6266174,
          -87.6495838,
          -87.6739604,
          -87.710246,
          -87.6674464,
          -87.636348,
          -87.6735915,
          -87.62789599999999,
          -87.6189483,
          -87.6277101,
          -87.64665079999999,
          -87.6442117,
          -87.63960689999999,
          -87.6439221,
          -87.66059349999999,
          -87.62669,
          -87.6775942,
          -87.6495838,
          -87.63967819999999,
          -87.6587002,
          -87.6411826,
          -87.64860259999999,
          -87.71665159999999,
          -87.6301134,
          -87.6324898,
          -87.61319879999999,
          -87.6411826,
          -87.61766659999999,
          -87.62274269999999,
          -87.6589607,
          -87.6443702,
          -87.66059349999999,
          -87.62581449999999,
          -87.6249599,
          -87.6661027,
          -87.636348,
          -87.617496,
          -87.6482467,
          -87.64788329999999,
          -87.6411826,
          -87.5866356,
          -87.6439221,
          -87.63960689999999,
          -87.6253303,
          -87.6443702,
          -87.6352337,
          -87.6394794,
          -87.6443362,
          -87.6411826,
          -87.6223263,
          -87.6207247,
          -87.636348,
          -87.6625296,
          -87.6430376,
          -87.6410684,
          -87.6207247,
          -87.6353757,
          -87.6309467,
          -87.69487199999999,
          -87.6776972,
          -87.6067898,
          -87.63849189999999,
          -87.6485632,
          -87.580741,
          -87.646287,
          -87.64988249999999,
          -87.63960689999999,
          -87.6343492,
          -87.6674072,
          -87.6483582,
          -87.6293547,
          -87.636348,
          -87.6690587,
          -87.6352812,
          -87.6301134,
          -87.66407799999999,
          -87.6443702,
          -87.6219548,
          -87.6528903,
          -87.6568975,
          -87.6352337,
          -87.7084198,
          -87.61766659999999,
          -87.62581449999999
         ],
         "mode": "markers",
         "type": "scattermapbox"
        }
       ],
       "layout": {
        "mapbox": {
         "center": {
          "lat": 41.88,
          "lon": -87.64
         },
         "style": "open-street-map",
         "zoom": 12
        },
        "margin": {
         "b": 5,
         "l": 5,
         "r": 5,
         "t": 5
        },
        "template": {
         "data": {
          "bar": [
           {
            "error_x": {
             "color": "#2a3f5f"
            },
            "error_y": {
             "color": "#2a3f5f"
            },
            "marker": {
             "line": {
              "color": "#E5ECF6",
              "width": 0.5
             },
             "pattern": {
              "fillmode": "overlay",
              "size": 10,
              "solidity": 0.2
             }
            },
            "type": "bar"
           }
          ],
          "barpolar": [
           {
            "marker": {
             "line": {
              "color": "#E5ECF6",
              "width": 0.5
             },
             "pattern": {
              "fillmode": "overlay",
              "size": 10,
              "solidity": 0.2
             }
            },
            "type": "barpolar"
           }
          ],
          "carpet": [
           {
            "aaxis": {
             "endlinecolor": "#2a3f5f",
             "gridcolor": "white",
             "linecolor": "white",
             "minorgridcolor": "white",
             "startlinecolor": "#2a3f5f"
            },
            "baxis": {
             "endlinecolor": "#2a3f5f",
             "gridcolor": "white",
             "linecolor": "white",
             "minorgridcolor": "white",
             "startlinecolor": "#2a3f5f"
            },
            "type": "carpet"
           }
          ],
          "choropleth": [
           {
            "colorbar": {
             "outlinewidth": 0,
             "ticks": ""
            },
            "type": "choropleth"
           }
          ],
          "contour": [
           {
            "colorbar": {
             "outlinewidth": 0,
             "ticks": ""
            },
            "colorscale": [
             [
              0,
              "#0d0887"
             ],
             [
              0.1111111111111111,
              "#46039f"
             ],
             [
              0.2222222222222222,
              "#7201a8"
             ],
             [
              0.3333333333333333,
              "#9c179e"
             ],
             [
              0.4444444444444444,
              "#bd3786"
             ],
             [
              0.5555555555555556,
              "#d8576b"
             ],
             [
              0.6666666666666666,
              "#ed7953"
             ],
             [
              0.7777777777777778,
              "#fb9f3a"
             ],
             [
              0.8888888888888888,
              "#fdca26"
             ],
             [
              1,
              "#f0f921"
             ]
            ],
            "type": "contour"
           }
          ],
          "contourcarpet": [
           {
            "colorbar": {
             "outlinewidth": 0,
             "ticks": ""
            },
            "type": "contourcarpet"
           }
          ],
          "heatmap": [
           {
            "colorbar": {
             "outlinewidth": 0,
             "ticks": ""
            },
            "colorscale": [
             [
              0,
              "#0d0887"
             ],
             [
              0.1111111111111111,
              "#46039f"
             ],
             [
              0.2222222222222222,
              "#7201a8"
             ],
             [
              0.3333333333333333,
              "#9c179e"
             ],
             [
              0.4444444444444444,
              "#bd3786"
             ],
             [
              0.5555555555555556,
              "#d8576b"
             ],
             [
              0.6666666666666666,
              "#ed7953"
             ],
             [
              0.7777777777777778,
              "#fb9f3a"
             ],
             [
              0.8888888888888888,
              "#fdca26"
             ],
             [
              1,
              "#f0f921"
             ]
            ],
            "type": "heatmap"
           }
          ],
          "heatmapgl": [
           {
            "colorbar": {
             "outlinewidth": 0,
             "ticks": ""
            },
            "colorscale": [
             [
              0,
              "#0d0887"
             ],
             [
              0.1111111111111111,
              "#46039f"
             ],
             [
              0.2222222222222222,
              "#7201a8"
             ],
             [
              0.3333333333333333,
              "#9c179e"
             ],
             [
              0.4444444444444444,
              "#bd3786"
             ],
             [
              0.5555555555555556,
              "#d8576b"
             ],
             [
              0.6666666666666666,
              "#ed7953"
             ],
             [
              0.7777777777777778,
              "#fb9f3a"
             ],
             [
              0.8888888888888888,
              "#fdca26"
             ],
             [
              1,
              "#f0f921"
             ]
            ],
            "type": "heatmapgl"
           }
          ],
          "histogram": [
           {
            "marker": {
             "pattern": {
              "fillmode": "overlay",
              "size": 10,
              "solidity": 0.2
             }
            },
            "type": "histogram"
           }
          ],
          "histogram2d": [
           {
            "colorbar": {
             "outlinewidth": 0,
             "ticks": ""
            },
            "colorscale": [
             [
              0,
              "#0d0887"
             ],
             [
              0.1111111111111111,
              "#46039f"
             ],
             [
              0.2222222222222222,
              "#7201a8"
             ],
             [
              0.3333333333333333,
              "#9c179e"
             ],
             [
              0.4444444444444444,
              "#bd3786"
             ],
             [
              0.5555555555555556,
              "#d8576b"
             ],
             [
              0.6666666666666666,
              "#ed7953"
             ],
             [
              0.7777777777777778,
              "#fb9f3a"
             ],
             [
              0.8888888888888888,
              "#fdca26"
             ],
             [
              1,
              "#f0f921"
             ]
            ],
            "type": "histogram2d"
           }
          ],
          "histogram2dcontour": [
           {
            "colorbar": {
             "outlinewidth": 0,
             "ticks": ""
            },
            "colorscale": [
             [
              0,
              "#0d0887"
             ],
             [
              0.1111111111111111,
              "#46039f"
             ],
             [
              0.2222222222222222,
              "#7201a8"
             ],
             [
              0.3333333333333333,
              "#9c179e"
             ],
             [
              0.4444444444444444,
              "#bd3786"
             ],
             [
              0.5555555555555556,
              "#d8576b"
             ],
             [
              0.6666666666666666,
              "#ed7953"
             ],
             [
              0.7777777777777778,
              "#fb9f3a"
             ],
             [
              0.8888888888888888,
              "#fdca26"
             ],
             [
              1,
              "#f0f921"
             ]
            ],
            "type": "histogram2dcontour"
           }
          ],
          "mesh3d": [
           {
            "colorbar": {
             "outlinewidth": 0,
             "ticks": ""
            },
            "type": "mesh3d"
           }
          ],
          "parcoords": [
           {
            "line": {
             "colorbar": {
              "outlinewidth": 0,
              "ticks": ""
             }
            },
            "type": "parcoords"
           }
          ],
          "pie": [
           {
            "automargin": true,
            "type": "pie"
           }
          ],
          "scatter": [
           {
            "fillpattern": {
             "fillmode": "overlay",
             "size": 10,
             "solidity": 0.2
            },
            "type": "scatter"
           }
          ],
          "scatter3d": [
           {
            "line": {
             "colorbar": {
              "outlinewidth": 0,
              "ticks": ""
             }
            },
            "marker": {
             "colorbar": {
              "outlinewidth": 0,
              "ticks": ""
             }
            },
            "type": "scatter3d"
           }
          ],
          "scattercarpet": [
           {
            "marker": {
             "colorbar": {
              "outlinewidth": 0,
              "ticks": ""
             }
            },
            "type": "scattercarpet"
           }
          ],
          "scattergeo": [
           {
            "marker": {
             "colorbar": {
              "outlinewidth": 0,
              "ticks": ""
             }
            },
            "type": "scattergeo"
           }
          ],
          "scattergl": [
           {
            "marker": {
             "colorbar": {
              "outlinewidth": 0,
              "ticks": ""
             }
            },
            "type": "scattergl"
           }
          ],
          "scattermapbox": [
           {
            "marker": {
             "colorbar": {
              "outlinewidth": 0,
              "ticks": ""
             }
            },
            "type": "scattermapbox"
           }
          ],
          "scatterpolar": [
           {
            "marker": {
             "colorbar": {
              "outlinewidth": 0,
              "ticks": ""
             }
            },
            "type": "scatterpolar"
           }
          ],
          "scatterpolargl": [
           {
            "marker": {
             "colorbar": {
              "outlinewidth": 0,
              "ticks": ""
             }
            },
            "type": "scatterpolargl"
           }
          ],
          "scatterternary": [
           {
            "marker": {
             "colorbar": {
              "outlinewidth": 0,
              "ticks": ""
             }
            },
            "type": "scatterternary"
           }
          ],
          "surface": [
           {
            "colorbar": {
             "outlinewidth": 0,
             "ticks": ""
            },
            "colorscale": [
             [
              0,
              "#0d0887"
             ],
             [
              0.1111111111111111,
              "#46039f"
             ],
             [
              0.2222222222222222,
              "#7201a8"
             ],
             [
              0.3333333333333333,
              "#9c179e"
             ],
             [
              0.4444444444444444,
              "#bd3786"
             ],
             [
              0.5555555555555556,
              "#d8576b"
             ],
             [
              0.6666666666666666,
              "#ed7953"
             ],
             [
              0.7777777777777778,
              "#fb9f3a"
             ],
             [
              0.8888888888888888,
              "#fdca26"
             ],
             [
              1,
              "#f0f921"
             ]
            ],
            "type": "surface"
           }
          ],
          "table": [
           {
            "cells": {
             "fill": {
              "color": "#EBF0F8"
             },
             "line": {
              "color": "white"
             }
            },
            "header": {
             "fill": {
              "color": "#C8D4E3"
             },
             "line": {
              "color": "white"
             }
            },
            "type": "table"
           }
          ]
         },
         "layout": {
          "annotationdefaults": {
           "arrowcolor": "#2a3f5f",
           "arrowhead": 0,
           "arrowwidth": 1
          },
          "autotypenumbers": "strict",
          "coloraxis": {
           "colorbar": {
            "outlinewidth": 0,
            "ticks": ""
           }
          },
          "colorscale": {
           "diverging": [
            [
             0,
             "#8e0152"
            ],
            [
             0.1,
             "#c51b7d"
            ],
            [
             0.2,
             "#de77ae"
            ],
            [
             0.3,
             "#f1b6da"
            ],
            [
             0.4,
             "#fde0ef"
            ],
            [
             0.5,
             "#f7f7f7"
            ],
            [
             0.6,
             "#e6f5d0"
            ],
            [
             0.7,
             "#b8e186"
            ],
            [
             0.8,
             "#7fbc41"
            ],
            [
             0.9,
             "#4d9221"
            ],
            [
             1,
             "#276419"
            ]
           ],
           "sequential": [
            [
             0,
             "#0d0887"
            ],
            [
             0.1111111111111111,
             "#46039f"
            ],
            [
             0.2222222222222222,
             "#7201a8"
            ],
            [
             0.3333333333333333,
             "#9c179e"
            ],
            [
             0.4444444444444444,
             "#bd3786"
            ],
            [
             0.5555555555555556,
             "#d8576b"
            ],
            [
             0.6666666666666666,
             "#ed7953"
            ],
            [
             0.7777777777777778,
             "#fb9f3a"
            ],
            [
             0.8888888888888888,
             "#fdca26"
            ],
            [
             1,
             "#f0f921"
            ]
           ],
           "sequentialminus": [
            [
             0,
             "#0d0887"
            ],
            [
             0.1111111111111111,
             "#46039f"
            ],
            [
             0.2222222222222222,
             "#7201a8"
            ],
            [
             0.3333333333333333,
             "#9c179e"
            ],
            [
             0.4444444444444444,
             "#bd3786"
            ],
            [
             0.5555555555555556,
             "#d8576b"
            ],
            [
             0.6666666666666666,
             "#ed7953"
            ],
            [
             0.7777777777777778,
             "#fb9f3a"
            ],
            [
             0.8888888888888888,
             "#fdca26"
            ],
            [
             1,
             "#f0f921"
            ]
           ]
          },
          "colorway": [
           "#636efa",
           "#EF553B",
           "#00cc96",
           "#ab63fa",
           "#FFA15A",
           "#19d3f3",
           "#FF6692",
           "#B6E880",
           "#FF97FF",
           "#FECB52"
          ],
          "font": {
           "color": "#2a3f5f"
          },
          "geo": {
           "bgcolor": "white",
           "lakecolor": "white",
           "landcolor": "#E5ECF6",
           "showlakes": true,
           "showland": true,
           "subunitcolor": "white"
          },
          "hoverlabel": {
           "align": "left"
          },
          "hovermode": "closest",
          "mapbox": {
           "style": "light"
          },
          "paper_bgcolor": "white",
          "plot_bgcolor": "#E5ECF6",
          "polar": {
           "angularaxis": {
            "gridcolor": "white",
            "linecolor": "white",
            "ticks": ""
           },
           "bgcolor": "#E5ECF6",
           "radialaxis": {
            "gridcolor": "white",
            "linecolor": "white",
            "ticks": ""
           }
          },
          "scene": {
           "xaxis": {
            "backgroundcolor": "#E5ECF6",
            "gridcolor": "white",
            "gridwidth": 2,
            "linecolor": "white",
            "showbackground": true,
            "ticks": "",
            "zerolinecolor": "white"
           },
           "yaxis": {
            "backgroundcolor": "#E5ECF6",
            "gridcolor": "white",
            "gridwidth": 2,
            "linecolor": "white",
            "showbackground": true,
            "ticks": "",
            "zerolinecolor": "white"
           },
           "zaxis": {
            "backgroundcolor": "#E5ECF6",
            "gridcolor": "white",
            "gridwidth": 2,
            "linecolor": "white",
            "showbackground": true,
            "ticks": "",
            "zerolinecolor": "white"
           }
          },
          "shapedefaults": {
           "line": {
            "color": "#2a3f5f"
           }
          },
          "ternary": {
           "aaxis": {
            "gridcolor": "white",
            "linecolor": "white",
            "ticks": ""
           },
           "baxis": {
            "gridcolor": "white",
            "linecolor": "white",
            "ticks": ""
           },
           "bgcolor": "#E5ECF6",
           "caxis": {
            "gridcolor": "white",
            "linecolor": "white",
            "ticks": ""
           }
          },
          "title": {
           "x": 0.05
          },
          "xaxis": {
           "automargin": true,
           "gridcolor": "white",
           "linecolor": "white",
           "ticks": "",
           "title": {
            "standoff": 15
           },
           "zerolinecolor": "white",
           "zerolinewidth": 2
          },
          "yaxis": {
           "automargin": true,
           "gridcolor": "white",
           "linecolor": "white",
           "ticks": "",
           "title": {
            "standoff": 15
           },
           "zerolinecolor": "white",
           "zerolinewidth": 2
          }
         }
        }
       }
      }
     },
     "metadata": {},
     "output_type": "display_data"
    }
   ],
   "source": [
    "# Open street map showing station locations\n",
    "sample_df = merged_df.sample(300)\n",
    "mark_trace = go.Scattermapbox(lat=sample_df[\"from_lat\"],\n",
    "                              lon=sample_df[\"from_lng\"],\n",
    "                              mode=\"markers\",\n",
    "                              hoverinfo=\"text\",\n",
    "                              hovertext=sample_df[\"from_station_name\"])\n",
    "fig = go.Figure(layout=go.Layout(mapbox_style=\"open-street-map\"))\n",
    "fig.add_trace(mark_trace)\n",
    "fig.update_layout(\n",
    "    margin ={'l':5,'t':5,'b':5,'r':5},\n",
    "    mapbox = {\n",
    "        'center': {'lat': 41.88, \n",
    "                   'lon': -87.64},\n",
    "        'zoom': 12});\n",
    "fig.show()"
   ]
  },
  {
   "cell_type": "markdown",
   "metadata": {},
   "source": [
    "## Calculate distances between bike stations\n",
    "1. The calculated distances will generally be less than the actual distance covered since actual road users go along paths instead of cutting through buildings.\n",
    "2. Second, they may go far distances but return bike at a station close to the one they took off from. \n",
    "3. Distances may not be all correct because the geocoding isn't all accurate."
   ]
  },
  {
   "cell_type": "code",
   "execution_count": 33,
   "metadata": {},
   "outputs": [],
   "source": [
    "# Calculate distance travelled between stations\n",
    "diff_lat = (merged_df[\"from_lat\"] - merged_df[\"to_lat\"])**2\n",
    "diff_lon = (merged_df[\"from_lng\"] - merged_df[\"to_lng\"])**2\n",
    "\n",
    "# Convert latitude/longitude difference into distance in metrics system\n",
    "# The results are in \"km\". \n",
    "merged_df[\"distance\"] = [math.sqrt(x + y)*111 for x, y in zip(diff_lat, diff_lon)]"
   ]
  },
  {
   "cell_type": "code",
   "execution_count": 34,
   "metadata": {},
   "outputs": [
    {
     "data": {
      "text/html": [
       "<div>\n",
       "<style scoped>\n",
       "    .dataframe tbody tr th:only-of-type {\n",
       "        vertical-align: middle;\n",
       "    }\n",
       "\n",
       "    .dataframe tbody tr th {\n",
       "        vertical-align: top;\n",
       "    }\n",
       "\n",
       "    .dataframe thead th {\n",
       "        text-align: right;\n",
       "    }\n",
       "</style>\n",
       "<table border=\"1\" class=\"dataframe\">\n",
       "  <thead>\n",
       "    <tr style=\"text-align: right;\">\n",
       "      <th></th>\n",
       "      <th>trip_id</th>\n",
       "      <th>start_time</th>\n",
       "      <th>end_time</th>\n",
       "      <th>bikeid</th>\n",
       "      <th>tripduration</th>\n",
       "      <th>from_station_id</th>\n",
       "      <th>from_station_name</th>\n",
       "      <th>to_station_id</th>\n",
       "      <th>to_station_name</th>\n",
       "      <th>usertype</th>\n",
       "      <th>gender</th>\n",
       "      <th>birthyear</th>\n",
       "      <th>from_lat</th>\n",
       "      <th>from_lng</th>\n",
       "      <th>to_lat</th>\n",
       "      <th>to_lng</th>\n",
       "      <th>distance</th>\n",
       "    </tr>\n",
       "  </thead>\n",
       "  <tbody>\n",
       "    <tr>\n",
       "      <th>0</th>\n",
       "      <td>23479388</td>\n",
       "      <td>2019-07-01 00:00:27</td>\n",
       "      <td>2019-07-01 00:20:41</td>\n",
       "      <td>3591</td>\n",
       "      <td>1,214.0</td>\n",
       "      <td>117</td>\n",
       "      <td>Wilton Ave &amp; Belmont Ave</td>\n",
       "      <td>497</td>\n",
       "      <td>Kimball Ave &amp; Belmont Ave</td>\n",
       "      <td>Subscriber</td>\n",
       "      <td>Male</td>\n",
       "      <td>1992.0</td>\n",
       "      <td>41.939913</td>\n",
       "      <td>-87.652890</td>\n",
       "      <td>41.939282</td>\n",
       "      <td>-87.712488</td>\n",
       "      <td>6.615671</td>\n",
       "    </tr>\n",
       "    <tr>\n",
       "      <th>1</th>\n",
       "      <td>23479393</td>\n",
       "      <td>2019-07-01 00:02:21</td>\n",
       "      <td>2019-07-01 00:07:31</td>\n",
       "      <td>4941</td>\n",
       "      <td>310.0</td>\n",
       "      <td>300</td>\n",
       "      <td>Broadway &amp; Barry Ave</td>\n",
       "      <td>232</td>\n",
       "      <td>Pine Grove Ave &amp; Waveland Ave</td>\n",
       "      <td>Subscriber</td>\n",
       "      <td>Male</td>\n",
       "      <td>1990.0</td>\n",
       "      <td>41.937910</td>\n",
       "      <td>-87.644336</td>\n",
       "      <td>41.949722</td>\n",
       "      <td>-87.646651</td>\n",
       "      <td>1.336100</td>\n",
       "    </tr>\n",
       "    <tr>\n",
       "      <th>2</th>\n",
       "      <td>23479406</td>\n",
       "      <td>2019-07-01 00:06:51</td>\n",
       "      <td>2019-07-01 00:26:22</td>\n",
       "      <td>2758</td>\n",
       "      <td>1,171.0</td>\n",
       "      <td>624</td>\n",
       "      <td>Dearborn St &amp; Van Buren St</td>\n",
       "      <td>237</td>\n",
       "      <td>MLK Jr Dr &amp; 29th St</td>\n",
       "      <td>Subscriber</td>\n",
       "      <td>Male</td>\n",
       "      <td>1995.0</td>\n",
       "      <td>41.876907</td>\n",
       "      <td>-87.629268</td>\n",
       "      <td>41.842289</td>\n",
       "      <td>-87.617126</td>\n",
       "      <td>4.072086</td>\n",
       "    </tr>\n",
       "    <tr>\n",
       "      <th>3</th>\n",
       "      <td>23479408</td>\n",
       "      <td>2019-07-01 00:08:24</td>\n",
       "      <td>2019-07-01 00:20:07</td>\n",
       "      <td>2447</td>\n",
       "      <td>703.0</td>\n",
       "      <td>239</td>\n",
       "      <td>Western Ave &amp; Leland Ave</td>\n",
       "      <td>455</td>\n",
       "      <td>Maplewood Ave &amp; Peterson Ave</td>\n",
       "      <td>Subscriber</td>\n",
       "      <td>Male</td>\n",
       "      <td>1970.0</td>\n",
       "      <td>41.966796</td>\n",
       "      <td>-87.688937</td>\n",
       "      <td>41.990425</td>\n",
       "      <td>-87.693305</td>\n",
       "      <td>2.667288</td>\n",
       "    </tr>\n",
       "    <tr>\n",
       "      <th>4</th>\n",
       "      <td>23479409</td>\n",
       "      <td>2019-07-01 00:08:40</td>\n",
       "      <td>2019-07-01 00:27:50</td>\n",
       "      <td>6336</td>\n",
       "      <td>1,150.0</td>\n",
       "      <td>257</td>\n",
       "      <td>Lincoln Ave &amp; Waveland Ave</td>\n",
       "      <td>295</td>\n",
       "      <td>Broadway &amp; Argyle St</td>\n",
       "      <td>Subscriber</td>\n",
       "      <td>Male</td>\n",
       "      <td>1993.0</td>\n",
       "      <td>41.948739</td>\n",
       "      <td>-87.674978</td>\n",
       "      <td>41.973238</td>\n",
       "      <td>-87.659783</td>\n",
       "      <td>3.199989</td>\n",
       "    </tr>\n",
       "  </tbody>\n",
       "</table>\n",
       "</div>"
      ],
      "text/plain": [
       "    trip_id           start_time             end_time  bikeid tripduration  \\\n",
       "0  23479388  2019-07-01 00:00:27  2019-07-01 00:20:41    3591      1,214.0   \n",
       "1  23479393  2019-07-01 00:02:21  2019-07-01 00:07:31    4941        310.0   \n",
       "2  23479406  2019-07-01 00:06:51  2019-07-01 00:26:22    2758      1,171.0   \n",
       "3  23479408  2019-07-01 00:08:24  2019-07-01 00:20:07    2447        703.0   \n",
       "4  23479409  2019-07-01 00:08:40  2019-07-01 00:27:50    6336      1,150.0   \n",
       "\n",
       "   from_station_id           from_station_name  to_station_id  \\\n",
       "0              117    Wilton Ave & Belmont Ave            497   \n",
       "1              300        Broadway & Barry Ave            232   \n",
       "2              624  Dearborn St & Van Buren St            237   \n",
       "3              239    Western Ave & Leland Ave            455   \n",
       "4              257  Lincoln Ave & Waveland Ave            295   \n",
       "\n",
       "                 to_station_name    usertype gender  birthyear   from_lat  \\\n",
       "0      Kimball Ave & Belmont Ave  Subscriber   Male     1992.0  41.939913   \n",
       "1  Pine Grove Ave & Waveland Ave  Subscriber   Male     1990.0  41.937910   \n",
       "2            MLK Jr Dr & 29th St  Subscriber   Male     1995.0  41.876907   \n",
       "3   Maplewood Ave & Peterson Ave  Subscriber   Male     1970.0  41.966796   \n",
       "4           Broadway & Argyle St  Subscriber   Male     1993.0  41.948739   \n",
       "\n",
       "    from_lng     to_lat     to_lng  distance  \n",
       "0 -87.652890  41.939282 -87.712488  6.615671  \n",
       "1 -87.644336  41.949722 -87.646651  1.336100  \n",
       "2 -87.629268  41.842289 -87.617126  4.072086  \n",
       "3 -87.688937  41.990425 -87.693305  2.667288  \n",
       "4 -87.674978  41.973238 -87.659783  3.199989  "
      ]
     },
     "execution_count": 34,
     "metadata": {},
     "output_type": "execute_result"
    }
   ],
   "source": [
    "merged_df.head()"
   ]
  },
  {
   "cell_type": "markdown",
   "metadata": {},
   "source": [
    "## Convert date str to datetime object\n",
    "* Convert string to date (geocode)\n"
   ]
  },
  {
   "cell_type": "code",
   "execution_count": 35,
   "metadata": {},
   "outputs": [],
   "source": [
    "# Convert string to datetime - date\n",
    "start_time = merged_df[\"start_time\"].apply(lambda x: datetime.strptime(x[0:10], \"%Y-%m-%d\"))\n",
    "end_time = merged_df[\"end_time\"].apply(lambda x: datetime.strptime(x[0:10], \"%Y-%m-%d\"))\n",
    "\n",
    "# Append formatted date into merged_df\n",
    "merged_df.loc[:, \"start_time_dt\"] = start_time\n",
    "merged_df.loc[:, \"end_time_dt\"] = end_time"
   ]
  },
  {
   "cell_type": "code",
   "execution_count": 36,
   "metadata": {},
   "outputs": [],
   "source": [
    "# Columns to drop\n",
    "# start_time            # not working with minutes data\n",
    "# end_time          \n",
    "# trip_id               # not necessary\n",
    "# bikeid                # not necessary\n",
    "\n",
    "cols_to_drop = [\"start_time\", \"end_time\", \"trip_id\", \"bikeid\"]\n",
    "\n",
    "merged_df.drop(cols_to_drop, axis=1, inplace=True)"
   ]
  },
  {
   "cell_type": "markdown",
   "metadata": {},
   "source": [
    "# Section 3: Retrieve weather data from Google Cloud Platform"
   ]
  },
  {
   "cell_type": "markdown",
   "metadata": {},
   "source": [
    "## Weather data for Chicago 2019\n",
    "* US National Oceanic and Atmospheric Administration (NOAA) Global Surface Summary of the Day (GSOD) data are hosted on Google Cloud in collaboration with NOAA.\n",
    "* GSOD collects daily (hourly) climate data from weather station from around the world, since 1929. \n",
    "* The data is hosted on Google BigQuery.\n",
    "* The data can be queried using the web-based BigQuery interface with SQL-like syntax.\n",
    "* The data can then be downloaded as a `.csv` file and read into local machine."
   ]
  },
  {
   "cell_type": "code",
   "execution_count": null,
   "metadata": {
    "vscode": {
     "languageId": "sql"
    }
   },
   "outputs": [],
   "source": [
    "-- This is a SQL code chunk\n",
    "-- BigQuery SQL Script for retrieving Chicago's climate data for year 2019\n",
    "SELECT \n",
    "  * \n",
    "FROM \n",
    "  `bigquery-public-data.noaa_gsod.stations` AS stations\n",
    "LEFT JOIN\n",
    "  `bigquery-public-data.noaa_gsod.gsod2019` AS weather\n",
    "ON \n",
    "  stations.wban = weather.wban \n",
    "WHERE \n",
    "  weather.year IN (\"2019\")\n",
    "AND \n",
    "  stations.country IN (\"US\") \n",
    "AND \n",
    "  stations.state IN (\"IL\")\n",
    "AND \n",
    "-- 41.882681, -87.623315 (Cloud Gate)\n",
    "  stations.lat BETWEEN 41.38273 AND 42.38273\n",
    "AND\n",
    "  stations.lon BETWEEN -88.12329 AND -87.12329\n",
    "AND \n",
    "  stations.wban <> \"99999\";\n",
    "\n",
    "-- File is then downloaded as a .csv file"
   ]
  },
  {
   "cell_type": "code",
   "execution_count": 39,
   "metadata": {},
   "outputs": [],
   "source": [
    "# Read in weather data that was retrieve from Google Cloud\n",
    "weather2019 = pd.read_csv(dir_path + \"bquxjob_c1bcc14_18996325857.csv\")\n",
    "unique_stations = weather2019[~weather2019.duplicated(\"wban\")]"
   ]
  },
  {
   "cell_type": "code",
   "execution_count": 43,
   "metadata": {},
   "outputs": [
    {
     "data": {
      "application/vnd.plotly.v1+json": {
       "config": {
        "plotlyServerURL": "https://plot.ly"
       },
       "data": [
        {
         "hoverinfo": "text",
         "hovertext": [
          "CHICAGO OHARE INTL AP",
          "LANSING MUNICIPAL AP",
          "PALWAUKEE MUNICIPAL ARPT",
          "LEWIS UNIVERSITY AIRPORT",
          "CHICAGO MIDWAY AP"
         ],
         "lat": [
          41.995,
          41.54,
          42.121,
          41.604,
          41.786
         ],
         "lon": [
          -87.934,
          -87.532,
          -87.905,
          -88.085,
          -87.752
         ],
         "mode": "markers",
         "type": "scattermapbox"
        }
       ],
       "layout": {
        "mapbox": {
         "center": {
          "lat": 41.88,
          "lon": -87.64
         },
         "style": "open-street-map",
         "zoom": 8
        },
        "margin": {
         "b": 5,
         "l": 5,
         "r": 5,
         "t": 5
        },
        "template": {
         "data": {
          "bar": [
           {
            "error_x": {
             "color": "#2a3f5f"
            },
            "error_y": {
             "color": "#2a3f5f"
            },
            "marker": {
             "line": {
              "color": "#E5ECF6",
              "width": 0.5
             },
             "pattern": {
              "fillmode": "overlay",
              "size": 10,
              "solidity": 0.2
             }
            },
            "type": "bar"
           }
          ],
          "barpolar": [
           {
            "marker": {
             "line": {
              "color": "#E5ECF6",
              "width": 0.5
             },
             "pattern": {
              "fillmode": "overlay",
              "size": 10,
              "solidity": 0.2
             }
            },
            "type": "barpolar"
           }
          ],
          "carpet": [
           {
            "aaxis": {
             "endlinecolor": "#2a3f5f",
             "gridcolor": "white",
             "linecolor": "white",
             "minorgridcolor": "white",
             "startlinecolor": "#2a3f5f"
            },
            "baxis": {
             "endlinecolor": "#2a3f5f",
             "gridcolor": "white",
             "linecolor": "white",
             "minorgridcolor": "white",
             "startlinecolor": "#2a3f5f"
            },
            "type": "carpet"
           }
          ],
          "choropleth": [
           {
            "colorbar": {
             "outlinewidth": 0,
             "ticks": ""
            },
            "type": "choropleth"
           }
          ],
          "contour": [
           {
            "colorbar": {
             "outlinewidth": 0,
             "ticks": ""
            },
            "colorscale": [
             [
              0,
              "#0d0887"
             ],
             [
              0.1111111111111111,
              "#46039f"
             ],
             [
              0.2222222222222222,
              "#7201a8"
             ],
             [
              0.3333333333333333,
              "#9c179e"
             ],
             [
              0.4444444444444444,
              "#bd3786"
             ],
             [
              0.5555555555555556,
              "#d8576b"
             ],
             [
              0.6666666666666666,
              "#ed7953"
             ],
             [
              0.7777777777777778,
              "#fb9f3a"
             ],
             [
              0.8888888888888888,
              "#fdca26"
             ],
             [
              1,
              "#f0f921"
             ]
            ],
            "type": "contour"
           }
          ],
          "contourcarpet": [
           {
            "colorbar": {
             "outlinewidth": 0,
             "ticks": ""
            },
            "type": "contourcarpet"
           }
          ],
          "heatmap": [
           {
            "colorbar": {
             "outlinewidth": 0,
             "ticks": ""
            },
            "colorscale": [
             [
              0,
              "#0d0887"
             ],
             [
              0.1111111111111111,
              "#46039f"
             ],
             [
              0.2222222222222222,
              "#7201a8"
             ],
             [
              0.3333333333333333,
              "#9c179e"
             ],
             [
              0.4444444444444444,
              "#bd3786"
             ],
             [
              0.5555555555555556,
              "#d8576b"
             ],
             [
              0.6666666666666666,
              "#ed7953"
             ],
             [
              0.7777777777777778,
              "#fb9f3a"
             ],
             [
              0.8888888888888888,
              "#fdca26"
             ],
             [
              1,
              "#f0f921"
             ]
            ],
            "type": "heatmap"
           }
          ],
          "heatmapgl": [
           {
            "colorbar": {
             "outlinewidth": 0,
             "ticks": ""
            },
            "colorscale": [
             [
              0,
              "#0d0887"
             ],
             [
              0.1111111111111111,
              "#46039f"
             ],
             [
              0.2222222222222222,
              "#7201a8"
             ],
             [
              0.3333333333333333,
              "#9c179e"
             ],
             [
              0.4444444444444444,
              "#bd3786"
             ],
             [
              0.5555555555555556,
              "#d8576b"
             ],
             [
              0.6666666666666666,
              "#ed7953"
             ],
             [
              0.7777777777777778,
              "#fb9f3a"
             ],
             [
              0.8888888888888888,
              "#fdca26"
             ],
             [
              1,
              "#f0f921"
             ]
            ],
            "type": "heatmapgl"
           }
          ],
          "histogram": [
           {
            "marker": {
             "pattern": {
              "fillmode": "overlay",
              "size": 10,
              "solidity": 0.2
             }
            },
            "type": "histogram"
           }
          ],
          "histogram2d": [
           {
            "colorbar": {
             "outlinewidth": 0,
             "ticks": ""
            },
            "colorscale": [
             [
              0,
              "#0d0887"
             ],
             [
              0.1111111111111111,
              "#46039f"
             ],
             [
              0.2222222222222222,
              "#7201a8"
             ],
             [
              0.3333333333333333,
              "#9c179e"
             ],
             [
              0.4444444444444444,
              "#bd3786"
             ],
             [
              0.5555555555555556,
              "#d8576b"
             ],
             [
              0.6666666666666666,
              "#ed7953"
             ],
             [
              0.7777777777777778,
              "#fb9f3a"
             ],
             [
              0.8888888888888888,
              "#fdca26"
             ],
             [
              1,
              "#f0f921"
             ]
            ],
            "type": "histogram2d"
           }
          ],
          "histogram2dcontour": [
           {
            "colorbar": {
             "outlinewidth": 0,
             "ticks": ""
            },
            "colorscale": [
             [
              0,
              "#0d0887"
             ],
             [
              0.1111111111111111,
              "#46039f"
             ],
             [
              0.2222222222222222,
              "#7201a8"
             ],
             [
              0.3333333333333333,
              "#9c179e"
             ],
             [
              0.4444444444444444,
              "#bd3786"
             ],
             [
              0.5555555555555556,
              "#d8576b"
             ],
             [
              0.6666666666666666,
              "#ed7953"
             ],
             [
              0.7777777777777778,
              "#fb9f3a"
             ],
             [
              0.8888888888888888,
              "#fdca26"
             ],
             [
              1,
              "#f0f921"
             ]
            ],
            "type": "histogram2dcontour"
           }
          ],
          "mesh3d": [
           {
            "colorbar": {
             "outlinewidth": 0,
             "ticks": ""
            },
            "type": "mesh3d"
           }
          ],
          "parcoords": [
           {
            "line": {
             "colorbar": {
              "outlinewidth": 0,
              "ticks": ""
             }
            },
            "type": "parcoords"
           }
          ],
          "pie": [
           {
            "automargin": true,
            "type": "pie"
           }
          ],
          "scatter": [
           {
            "fillpattern": {
             "fillmode": "overlay",
             "size": 10,
             "solidity": 0.2
            },
            "type": "scatter"
           }
          ],
          "scatter3d": [
           {
            "line": {
             "colorbar": {
              "outlinewidth": 0,
              "ticks": ""
             }
            },
            "marker": {
             "colorbar": {
              "outlinewidth": 0,
              "ticks": ""
             }
            },
            "type": "scatter3d"
           }
          ],
          "scattercarpet": [
           {
            "marker": {
             "colorbar": {
              "outlinewidth": 0,
              "ticks": ""
             }
            },
            "type": "scattercarpet"
           }
          ],
          "scattergeo": [
           {
            "marker": {
             "colorbar": {
              "outlinewidth": 0,
              "ticks": ""
             }
            },
            "type": "scattergeo"
           }
          ],
          "scattergl": [
           {
            "marker": {
             "colorbar": {
              "outlinewidth": 0,
              "ticks": ""
             }
            },
            "type": "scattergl"
           }
          ],
          "scattermapbox": [
           {
            "marker": {
             "colorbar": {
              "outlinewidth": 0,
              "ticks": ""
             }
            },
            "type": "scattermapbox"
           }
          ],
          "scatterpolar": [
           {
            "marker": {
             "colorbar": {
              "outlinewidth": 0,
              "ticks": ""
             }
            },
            "type": "scatterpolar"
           }
          ],
          "scatterpolargl": [
           {
            "marker": {
             "colorbar": {
              "outlinewidth": 0,
              "ticks": ""
             }
            },
            "type": "scatterpolargl"
           }
          ],
          "scatterternary": [
           {
            "marker": {
             "colorbar": {
              "outlinewidth": 0,
              "ticks": ""
             }
            },
            "type": "scatterternary"
           }
          ],
          "surface": [
           {
            "colorbar": {
             "outlinewidth": 0,
             "ticks": ""
            },
            "colorscale": [
             [
              0,
              "#0d0887"
             ],
             [
              0.1111111111111111,
              "#46039f"
             ],
             [
              0.2222222222222222,
              "#7201a8"
             ],
             [
              0.3333333333333333,
              "#9c179e"
             ],
             [
              0.4444444444444444,
              "#bd3786"
             ],
             [
              0.5555555555555556,
              "#d8576b"
             ],
             [
              0.6666666666666666,
              "#ed7953"
             ],
             [
              0.7777777777777778,
              "#fb9f3a"
             ],
             [
              0.8888888888888888,
              "#fdca26"
             ],
             [
              1,
              "#f0f921"
             ]
            ],
            "type": "surface"
           }
          ],
          "table": [
           {
            "cells": {
             "fill": {
              "color": "#EBF0F8"
             },
             "line": {
              "color": "white"
             }
            },
            "header": {
             "fill": {
              "color": "#C8D4E3"
             },
             "line": {
              "color": "white"
             }
            },
            "type": "table"
           }
          ]
         },
         "layout": {
          "annotationdefaults": {
           "arrowcolor": "#2a3f5f",
           "arrowhead": 0,
           "arrowwidth": 1
          },
          "autotypenumbers": "strict",
          "coloraxis": {
           "colorbar": {
            "outlinewidth": 0,
            "ticks": ""
           }
          },
          "colorscale": {
           "diverging": [
            [
             0,
             "#8e0152"
            ],
            [
             0.1,
             "#c51b7d"
            ],
            [
             0.2,
             "#de77ae"
            ],
            [
             0.3,
             "#f1b6da"
            ],
            [
             0.4,
             "#fde0ef"
            ],
            [
             0.5,
             "#f7f7f7"
            ],
            [
             0.6,
             "#e6f5d0"
            ],
            [
             0.7,
             "#b8e186"
            ],
            [
             0.8,
             "#7fbc41"
            ],
            [
             0.9,
             "#4d9221"
            ],
            [
             1,
             "#276419"
            ]
           ],
           "sequential": [
            [
             0,
             "#0d0887"
            ],
            [
             0.1111111111111111,
             "#46039f"
            ],
            [
             0.2222222222222222,
             "#7201a8"
            ],
            [
             0.3333333333333333,
             "#9c179e"
            ],
            [
             0.4444444444444444,
             "#bd3786"
            ],
            [
             0.5555555555555556,
             "#d8576b"
            ],
            [
             0.6666666666666666,
             "#ed7953"
            ],
            [
             0.7777777777777778,
             "#fb9f3a"
            ],
            [
             0.8888888888888888,
             "#fdca26"
            ],
            [
             1,
             "#f0f921"
            ]
           ],
           "sequentialminus": [
            [
             0,
             "#0d0887"
            ],
            [
             0.1111111111111111,
             "#46039f"
            ],
            [
             0.2222222222222222,
             "#7201a8"
            ],
            [
             0.3333333333333333,
             "#9c179e"
            ],
            [
             0.4444444444444444,
             "#bd3786"
            ],
            [
             0.5555555555555556,
             "#d8576b"
            ],
            [
             0.6666666666666666,
             "#ed7953"
            ],
            [
             0.7777777777777778,
             "#fb9f3a"
            ],
            [
             0.8888888888888888,
             "#fdca26"
            ],
            [
             1,
             "#f0f921"
            ]
           ]
          },
          "colorway": [
           "#636efa",
           "#EF553B",
           "#00cc96",
           "#ab63fa",
           "#FFA15A",
           "#19d3f3",
           "#FF6692",
           "#B6E880",
           "#FF97FF",
           "#FECB52"
          ],
          "font": {
           "color": "#2a3f5f"
          },
          "geo": {
           "bgcolor": "white",
           "lakecolor": "white",
           "landcolor": "#E5ECF6",
           "showlakes": true,
           "showland": true,
           "subunitcolor": "white"
          },
          "hoverlabel": {
           "align": "left"
          },
          "hovermode": "closest",
          "mapbox": {
           "style": "light"
          },
          "paper_bgcolor": "white",
          "plot_bgcolor": "#E5ECF6",
          "polar": {
           "angularaxis": {
            "gridcolor": "white",
            "linecolor": "white",
            "ticks": ""
           },
           "bgcolor": "#E5ECF6",
           "radialaxis": {
            "gridcolor": "white",
            "linecolor": "white",
            "ticks": ""
           }
          },
          "scene": {
           "xaxis": {
            "backgroundcolor": "#E5ECF6",
            "gridcolor": "white",
            "gridwidth": 2,
            "linecolor": "white",
            "showbackground": true,
            "ticks": "",
            "zerolinecolor": "white"
           },
           "yaxis": {
            "backgroundcolor": "#E5ECF6",
            "gridcolor": "white",
            "gridwidth": 2,
            "linecolor": "white",
            "showbackground": true,
            "ticks": "",
            "zerolinecolor": "white"
           },
           "zaxis": {
            "backgroundcolor": "#E5ECF6",
            "gridcolor": "white",
            "gridwidth": 2,
            "linecolor": "white",
            "showbackground": true,
            "ticks": "",
            "zerolinecolor": "white"
           }
          },
          "shapedefaults": {
           "line": {
            "color": "#2a3f5f"
           }
          },
          "ternary": {
           "aaxis": {
            "gridcolor": "white",
            "linecolor": "white",
            "ticks": ""
           },
           "baxis": {
            "gridcolor": "white",
            "linecolor": "white",
            "ticks": ""
           },
           "bgcolor": "#E5ECF6",
           "caxis": {
            "gridcolor": "white",
            "linecolor": "white",
            "ticks": ""
           }
          },
          "title": {
           "x": 0.05
          },
          "xaxis": {
           "automargin": true,
           "gridcolor": "white",
           "linecolor": "white",
           "ticks": "",
           "title": {
            "standoff": 15
           },
           "zerolinecolor": "white",
           "zerolinewidth": 2
          },
          "yaxis": {
           "automargin": true,
           "gridcolor": "white",
           "linecolor": "white",
           "ticks": "",
           "title": {
            "standoff": 15
           },
           "zerolinecolor": "white",
           "zerolinewidth": 2
          }
         }
        }
       }
      }
     },
     "metadata": {},
     "output_type": "display_data"
    }
   ],
   "source": [
    "# Open street map showing weather station locations\n",
    "mark_trace = go.Scattermapbox(lat=unique_stations[\"lat\"],\n",
    "                              lon=unique_stations[\"lon\"],\n",
    "                              mode=\"markers\",\n",
    "                              hoverinfo=\"text\",\n",
    "                              hovertext=unique_stations[\"name\"])\n",
    "fig = go.Figure(layout=go.Layout(mapbox_style=\"open-street-map\"))\n",
    "\n",
    "fig.add_trace(mark_trace)\n",
    "\n",
    "fig.update_layout(\n",
    "    margin ={'l':5,'t':5,'b':5,'r':5},\n",
    "    mapbox = {\n",
    "        'center': {'lat': 41.88, \n",
    "                   'lon': -87.64},\n",
    "        'zoom': 8});\n",
    "fig.show()"
   ]
  },
  {
   "cell_type": "code",
   "execution_count": 44,
   "metadata": {},
   "outputs": [],
   "source": [
    "# Convert year, month, day into strings\n",
    "year = weather2019[\"year\"].apply(lambda x: str(int(x)))\n",
    "month = weather2019[\"mo\"].apply(lambda x: str(int(x)))\n",
    "day = weather2019[\"da\"].apply(lambda x: str(int(x)))"
   ]
  },
  {
   "cell_type": "code",
   "execution_count": 45,
   "metadata": {},
   "outputs": [],
   "source": [
    "# Create new column for date data in date class\n",
    "date_list = []\n",
    "\n",
    "for y, m, d in zip(year, month, day):\n",
    "    date = datetime.strptime(\"-\".join([y, m, d]), \"%Y-%m-%d\")\n",
    "    date_list.append(date)\n",
    "    \n",
    "date_list = pd.Series(date_list)\n",
    "\n",
    "# Append formatter date into weather2019 data set\n",
    "weather2019.loc[:, \"date_list\"] = date_list"
   ]
  },
  {
   "cell_type": "code",
   "execution_count": 46,
   "metadata": {},
   "outputs": [],
   "source": [
    "# Average out the daily temperatures from different stations \n",
    "avg_weather2019 = weather2019.groupby([\"date_list\"], as_index=False).agg(avg_temp = (\"temp\", \"mean\"))\n",
    "\n",
    "# Convert to degree Celsius\n",
    "avg_weather2019[\"avg_temp\"] = avg_weather2019[\"avg_temp\"].apply(lambda x: (x - 32) * 5/9)"
   ]
  },
  {
   "cell_type": "code",
   "execution_count": 47,
   "metadata": {},
   "outputs": [
    {
     "data": {
      "image/png": "[encoded data removed]",
      "text/plain": [
       "<Figure size 640x480 with 1 Axes>"
      ]
     },
     "metadata": {},
     "output_type": "display_data"
    }
   ],
   "source": [
    "plt.plot(avg_weather2019[\"date_list\"], avg_weather2019[\"avg_temp\"]);"
   ]
  },
  {
   "cell_type": "markdown",
   "metadata": {},
   "source": [
    "# Section 4: Merge all data together"
   ]
  },
  {
   "cell_type": "markdown",
   "metadata": {},
   "source": [
    "## Merge all data together\n",
    "1. Bike trips\n",
    "2. Bike station geocode\n",
    "3. Weather data"
   ]
  },
  {
   "cell_type": "code",
   "execution_count": 48,
   "metadata": {},
   "outputs": [],
   "source": [
    "# Merge to obtain df2\n",
    "df2 = pd.merge(left=merged_df, right=avg_weather2019,       \n",
    "               how=\"left\",\n",
    "               left_on=\"start_time_dt\",\n",
    "               right_on=\"date_list\")"
   ]
  },
  {
   "cell_type": "code",
   "execution_count": 49,
   "metadata": {},
   "outputs": [
    {
     "data": {
      "text/plain": [
       "tripduration             0\n",
       "from_station_id          0\n",
       "from_station_name        0\n",
       "to_station_id            0\n",
       "to_station_name          0\n",
       "usertype                 0\n",
       "gender               20412\n",
       "birthyear                0\n",
       "from_lat                42\n",
       "from_lng                42\n",
       "to_lat                 171\n",
       "to_lng                 171\n",
       "distance               203\n",
       "start_time_dt            0\n",
       "end_time_dt              0\n",
       "date_list                0\n",
       "avg_temp                 0\n",
       "dtype: int64"
      ]
     },
     "execution_count": 49,
     "metadata": {},
     "output_type": "execute_result"
    }
   ],
   "source": [
    "# Check number of NA values in each column\n",
    "df2.isna().sum()"
   ]
  },
  {
   "cell_type": "code",
   "execution_count": 50,
   "metadata": {},
   "outputs": [],
   "source": [
    "# Drop rows containing missing values\n",
    "df2.dropna(axis=0, how=\"any\", inplace=True)"
   ]
  },
  {
   "cell_type": "code",
   "execution_count": 127,
   "metadata": {},
   "outputs": [],
   "source": [
    "# Write df2 into folder for reload in the future\n",
    "if \"df2.csv\" in os.listdir(dir_path):\n",
    "    pass\n",
    "else:\n",
    "    df2.to_csv(dir_path + \"df2.csv\",\n",
    "               index=False)"
   ]
  }
 ],
 "metadata": {
  "kernelspec": {
   "display_name": "venv",
   "language": "python",
   "name": "python3"
  },
  "language_info": {
   "codemirror_mode": {
    "name": "ipython",
    "version": 3
   },
   "file_extension": ".py",
   "mimetype": "text/x-python",
   "name": "python",
   "nbconvert_exporter": "python",
   "pygments_lexer": "ipython3",
   "version": "3.10.7"
  },
  "orig_nbformat": 4
 },
 "nbformat": 4,
 "nbformat_minor": 2
}
