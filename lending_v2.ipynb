{
 "cells": [
  {
   "attachments": {},
   "cell_type": "markdown",
   "metadata": {},
   "source": [
    "### Work in Progress\n",
    "Created a second version of this lending jupyter notebook to work on a subset of the original lending club dataset. The subset contains only 27 features, of the original 150+ features, more commonly used for teaching of classification problem in machine learning. "
   ]
  },
  {
   "cell_type": "code",
   "execution_count": 1,
   "metadata": {},
   "outputs": [],
   "source": [
    "import warnings\n",
    "import pandas as pd\n",
    "import numpy as np\n",
    "import seaborn as sns\n",
    "import matplotlib.pyplot as plt\n",
    "\n",
    "# Stats models \n",
    "from statsmodels.stats.outliers_influence import variance_inflation_factor\n",
    "\n",
    "# Machine Learning\n",
    "from sklearn.model_selection import train_test_split\n",
    "from sklearn.preprocessing import StandardScaler\n",
    "from sklearn.impute import SimpleImputer as Imputer\n",
    "from sklearn.ensemble import RandomForestClassifier\n",
    "from sklearn.model_selection import GridSearchCV\n",
    "\n",
    "# Metrics\n",
    "from sklearn.metrics import confusion_matrix, classification_report"
   ]
  },
  {
   "cell_type": "code",
   "execution_count": 2,
   "metadata": {},
   "outputs": [],
   "source": [
    "warnings.filterwarnings('ignore')"
   ]
  },
  {
   "cell_type": "code",
   "execution_count": 126,
   "metadata": {},
   "outputs": [],
   "source": [
    "# Read in a subset of the dataset\n",
    "usecols = [\"loan_amnt\", \"term\", \"int_rate\", \"installment\", \"grade\", \"sub_grade\", \"emp_title\",\n",
    "           \"emp_length\", \"home_ownership\", \"annual_inc\", \"verification_status\", \"issue_d\", \"loan_status\", \"purpose\",\n",
    "           \"title\", \"zip_code\", \"addr_state\", \"dti\", \"earliest_cr_line\", \"open_acc\", \"pub_rec\",\n",
    "           \"revol_bal\", \"revol_util\", \"total_acc\", \"initial_list_status\", \"application_type\", \"mort_acc\", \"pub_rec_bankruptcies\"]\n",
    "\n",
    "df = pd.read_csv(\"../dataset/lendingclub/accepted_2007_to_2018Q4.csv\",\n",
    "                 usecols=usecols)"
   ]
  },
  {
   "cell_type": "code",
   "execution_count": 127,
   "metadata": {},
   "outputs": [],
   "source": [
    "# Perform some data cleaning for the numerical data similar to lending_v1.ipynb\n",
    "# Certain features were not part of the 27 features.\n",
    "df = df.iloc[:-2, :]\n",
    "\n",
    "# Subset data frame based on loan status - Charged Off and Fully Paid\n",
    "mapping = {\"Does not meet the credit policy. Status:Charged Off\": \"Charged Off\",\n",
    "           \"Default\": \"Charged Off\",\n",
    "           \"Does not meet the credit policy. Status:Fully Paid\": \"Fully Paid\"}\n",
    "\n",
    "df[\"loan_status\"] = df[\"loan_status\"].replace(mapping)\n",
    "\n",
    "df = df[~df[\"loan_status\"].isin([\"Current\", \n",
    "                                 \"In Grace Period\", \n",
    "                                 \"Late (16-30 days)\",\n",
    "                                 \"Late (31-120 days)\"])]\n",
    "\n",
    "# Determine the percentage of missing values from each feature.\n",
    "ms_values_count = df.isnull().sum()\n",
    "ms_values_perc = 100 * ms_values_count / len(df)\n",
    "\n",
    "ms_values_df = pd.DataFrame({\"ms_values_count\": ms_values_count,\n",
    "                             \"ms_values_perc\": ms_values_perc})\n",
    "ms_values_df.sort_values(\"ms_values_perc\", ascending=False, inplace=True)\n",
    "\n",
    "# Remove features with more than 50% missing values. \n",
    "feat_rm = list(ms_values_df[ms_values_df[\"ms_values_perc\"] > 50].index)\n",
    "df.drop(feat_rm, axis=1, inplace=True)\n",
    "\n",
    "# Drop rows that contain missing values.\n",
    "df.dropna(axis=0, how=\"any\", inplace=True)"
   ]
  },
  {
   "attachments": {},
   "cell_type": "markdown",
   "metadata": {},
   "source": [
    "* emp_title\n",
    "\n",
    "There are too many employment titles in the feature `emp_title` for one-hot encoding. I tried binning the titles together if the strings contain certain keywords like `[\"general manager\", \"sales manager\"] -> \"manager\"` down to 30 job titles, and converting the remaining into `\"others\"`. At the end, the 31 job titles were one-hot encoded. Random forest models were trained once with the one-hot encoded features and once without the employment title. There was no difference in the model's accuracy and other metrics for classification problem. Thus the `emp_title` will be removed from the analysis."
   ]
  },
  {
   "cell_type": "code",
   "execution_count": 129,
   "metadata": {},
   "outputs": [],
   "source": [
    "df.drop(\"emp_title\", axis=1, inplace=True)"
   ]
  },
  {
   "cell_type": "code",
   "execution_count": 130,
   "metadata": {},
   "outputs": [
    {
     "data": {
      "text/plain": [
       "(1199638, 27)"
      ]
     },
     "execution_count": 130,
     "metadata": {},
     "output_type": "execute_result"
    }
   ],
   "source": [
    "df.shape"
   ]
  },
  {
   "cell_type": "code",
   "execution_count": 84,
   "metadata": {},
   "outputs": [],
   "source": [
    "# Deprecated\n",
    "# Codes for binning employment titles for one-hot encoding. \n",
    "\n",
    "# Feature engineering with the employment title provided by the borrowers\n",
    "emp_title = df[\"emp_title\"].apply(lambda title: title.lower())\n",
    "emp_title.replace({\"rn\": \"registered nurse\"}, inplace=True)\n",
    "\n",
    "# Bin the categories into top 30 employment titles based on the title.\n",
    "emp_title[emp_title.str.contains(\"teacher\")] = \"teacher\"\n",
    "emp_title[emp_title.str.contains(\"manager\")] = \"manager\"\n",
    "emp_title[emp_title.str.contains(\"owner\")] = \"owner\"\n",
    "emp_title[emp_title.str.contains(\"driver\")] = \"driver\"\n",
    "emp_title[emp_title.str.contains(\"supervisor\")] = \"supervisor\"\n",
    "emp_title[emp_title.str.contains(\"engineer\")] = \"engineer\"\n",
    "emp_title[emp_title.str.contains(\"director\")] = \"director\"\n",
    "emp_title[emp_title.str.contains(\"engineer\")] = \"engineer\"\n",
    "emp_title[emp_title.str.contains(\"president\")] = \"president\"\n",
    "emp_title[emp_title.str.contains(\"ceo\")] = \"president\"\n",
    "emp_title[emp_title.str.contains(\"police\")] = \"police\"\n",
    "emp_title[emp_title.str.contains(\"account\")] = \"accountant\"\n",
    "emp_title[emp_title.str.contains(\"nurse\")] = \"registered nurse\"\n",
    "emp_title[emp_title.str.contains(\"technician\")] = \"technician\"\n",
    "emp_title[emp_title.str.contains(\"attorney\")] = \"attorney\"\n",
    "emp_title[emp_title.str.contains(\"mechanic\")] = \"mechanic\"\n",
    "emp_title[emp_title.str.contains(\"analyst\")] = \"analyst\"\n",
    "emp_title[emp_title.str.contains(\"server\")] = \"server\"\n",
    "emp_title[emp_title.str.contains(\"foreman\")] = \"foreman\"\n",
    "emp_title[emp_title.str.contains(\"executive\")] = \"executive\"\n",
    "emp_title[emp_title.str.contains(\"administrative\")] = \"executive\"\n",
    "emp_title[emp_title.str.contains(\"administrator\")] = \"executive\"\n",
    "emp_title[emp_title.str.contains(\"operator\")] = \"operator\"\n",
    "emp_title[emp_title.str.contains(\"controller\")] = \"controller\"\n",
    "emp_title[emp_title.str.contains(\"paralegal\")] = \"paralegal\"\n",
    "emp_title[emp_title.str.contains(\"consultant\")] = \"consultant\"\n",
    "emp_title[emp_title.str.contains(\"clerk\")] = \"clerk\"\n",
    "emp_title[emp_title.str.contains(\"principal\")] = \"principal\"\n",
    "emp_title[emp_title.str.contains(\"professor\")] = \"professor\"\n",
    "emp_title[emp_title.str.contains(\"lpn\")] = \"lpn\"\n",
    "emp_title[emp_title.str.contains(\"machinist\")] = \"machinist\"\n",
    "emp_title[emp_title.str.contains(\"customer service\")] = \"customer service\"\n",
    "emp_title[emp_title.str.contains(\"electrician\")] = \"electrician\"\n",
    "emp_title[emp_title.str.contains(\"cna\")] = \"cna\"\n",
    "\n",
    "# Replace remaining employment titles with \"others\"\n",
    "emp_list = list(emp_title.value_counts().head(30).index)\n",
    "\n",
    "def replace_title(title):\n",
    "    if title not in emp_list:\n",
    "        return \"others\"\n",
    "    else:\n",
    "        return title\n",
    "\n",
    "emp_title = emp_title.map(replace_title)\n",
    "df[\"new_emp_title\"] = emp_title"
   ]
  }
 ],
 "metadata": {
  "kernelspec": {
   "display_name": "venv",
   "language": "python",
   "name": "python3"
  },
  "language_info": {
   "codemirror_mode": {
    "name": "ipython",
    "version": 3
   },
   "file_extension": ".py",
   "mimetype": "text/x-python",
   "name": "python",
   "nbconvert_exporter": "python",
   "pygments_lexer": "ipython3",
   "version": "3.10.7"
  },
  "orig_nbformat": 4,
  "vscode": {
   "interpreter": {
    "hash": "fd11f3380fa70e3455920893a60e5b10d61731084a1d9c89e6b3d2bda2e7bc1f"
   }
  }
 },
 "nbformat": 4,
 "nbformat_minor": 2
}
